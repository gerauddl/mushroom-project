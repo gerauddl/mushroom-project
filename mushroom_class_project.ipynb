{
 "cells": [
  {
   "cell_type": "markdown",
   "id": "tPXZ6hPYzI0B",
   "metadata": {
    "id": "tPXZ6hPYzI0B"
   },
   "source": [
    "# **DATA CHALLENGE: CLASSIFICATION DE CHAMPIGNONS-                         THOMAS MARIN GERAUD DE LANGLADE**"
   ]
  },
  {
   "cell_type": "markdown",
   "id": "K-5mg9xM0hmd",
   "metadata": {
    "id": "K-5mg9xM0hmd"
   },
   "source": [
    "# **Introduction**"
   ]
  },
  {
   "cell_type": "markdown",
   "id": "HUTXxVG-0qYM",
   "metadata": {
    "id": "HUTXxVG-0qYM"
   },
   "source": [
    "Dans le cadre de ce projet, l'enjeu est de s'attaquer à une problématique de **classification supervisée** en utilisant le jeu de données disponible [**ici**](https://archive.ics.uci.edu/dataset/73/mushroom). Ce jeu de données, conçu par l'Université de Californie à Irvine (UCI), regroupe des informations diversifiées sur **23 espèces de champignons** (forme du chapeau, présence d'ecchymoses, odeur, etc.). L'objectif est de développer un modèle capable de déterminer si un champignon spécifique est **vénimeux ou comestible**.\n",
    "\n",
    "Pour élaborer ce modèle, plusieurs **contraintes** doivent être prises en compte :\n",
    "\n",
    "* Sélectionner uniquement la moitié des données de manière aléatoire.\n",
    "\n",
    "* Former les modèles en suivant d'abord la **répartition initiale** des individus de classe positive et négative du jeu de données, puis en adoptant des divisions de **30%** d'individus de classe positive et **70%** de classe négative, et finalement **90%** / **10%**.\n",
    "\n",
    "La classification sera réalisée à l'aide de classifieurs disponibles via le package **`sklearn`**, qui servira également à évaluer les performances des modèles.\n",
    "\n",
    "Procédons à la mise en œuvre."
   ]
  },
  {
   "cell_type": "code",
   "execution_count": 675,
   "id": "83a9ba99-8e81-4139-8b8c-2c10948b16bf",
   "metadata": {
    "executionInfo": {
     "elapsed": 2,
     "status": "ok",
     "timestamp": 1714403774485,
     "user": {
      "displayName": "Géraud de Langlade",
      "userId": "09292225826687032589"
     },
     "user_tz": -120
    },
    "id": "83a9ba99-8e81-4139-8b8c-2c10948b16bf"
   },
   "outputs": [],
   "source": [
    "import pandas as pd\n",
    "import numpy as np\n"
   ]
  },
  {
   "cell_type": "code",
   "execution_count": 676,
   "id": "1653171d-89a1-49d7-a6dd-a7f506028cf7",
   "metadata": {
    "colab": {
     "base_uri": "https://localhost:8080/"
    },
    "executionInfo": {
     "elapsed": 7501,
     "status": "ok",
     "timestamp": 1714403781984,
     "user": {
      "displayName": "Géraud de Langlade",
      "userId": "09292225826687032589"
     },
     "user_tz": -120
    },
    "id": "1653171d-89a1-49d7-a6dd-a7f506028cf7",
    "outputId": "13f74777-caa4-4c4d-abf7-ed67adfd238f"
   },
   "outputs": [
    {
     "name": "stdout",
     "output_type": "stream",
     "text": [
      "Requirement already satisfied: ucimlrepo in /Users/geraud/Documents/GitHub/projects/venv/lib/python3.11/site-packages (0.0.6)\n",
      "\n",
      "\u001b[1m[\u001b[0m\u001b[34;49mnotice\u001b[0m\u001b[1;39;49m]\u001b[0m\u001b[39;49m A new release of pip available: \u001b[0m\u001b[31;49m22.3.1\u001b[0m\u001b[39;49m -> \u001b[0m\u001b[32;49m24.0\u001b[0m\n",
      "\u001b[1m[\u001b[0m\u001b[34;49mnotice\u001b[0m\u001b[1;39;49m]\u001b[0m\u001b[39;49m To update, run: \u001b[0m\u001b[32;49mpip install --upgrade pip\u001b[0m\n"
     ]
    }
   ],
   "source": [
    "!pip install ucimlrepo"
   ]
  },
  {
   "cell_type": "markdown",
   "id": "06fb6f31-0198-43e8-93b4-db1d9934df98",
   "metadata": {
    "id": "06fb6f31-0198-43e8-93b4-db1d9934df98"
   },
   "source": [
    "Le package `ucimlrepo` développé par UCI est utilisé pour **charger le dataset et toutes les métadonnées associées**, telles que le nom, le rôle, le type de données, la présence de valeurs manquantes, etc.\n"
   ]
  },
  {
   "cell_type": "code",
   "execution_count": 677,
   "id": "e5e267de-e2d0-405c-90a1-8a251f18d451",
   "metadata": {
    "colab": {
     "base_uri": "https://localhost:8080/"
    },
    "executionInfo": {
     "elapsed": 651,
     "status": "ok",
     "timestamp": 1714403782630,
     "user": {
      "displayName": "Géraud de Langlade",
      "userId": "09292225826687032589"
     },
     "user_tz": -120
    },
    "id": "e5e267de-e2d0-405c-90a1-8a251f18d451",
    "outputId": "96c859e1-cec9-4211-e78e-c8849070b03c"
   },
   "outputs": [
    {
     "name": "stdout",
     "output_type": "stream",
     "text": [
      "                        name     role         type demographic  \\\n",
      "0                  poisonous   Target  Categorical        None   \n",
      "1                  cap-shape  Feature  Categorical        None   \n",
      "2                cap-surface  Feature  Categorical        None   \n",
      "3                  cap-color  Feature       Binary        None   \n",
      "4                    bruises  Feature  Categorical        None   \n",
      "5                       odor  Feature  Categorical        None   \n",
      "6            gill-attachment  Feature  Categorical        None   \n",
      "7               gill-spacing  Feature  Categorical        None   \n",
      "8                  gill-size  Feature  Categorical        None   \n",
      "9                 gill-color  Feature  Categorical        None   \n",
      "10               stalk-shape  Feature  Categorical        None   \n",
      "11                stalk-root  Feature  Categorical        None   \n",
      "12  stalk-surface-above-ring  Feature  Categorical        None   \n",
      "13  stalk-surface-below-ring  Feature  Categorical        None   \n",
      "14    stalk-color-above-ring  Feature  Categorical        None   \n",
      "15    stalk-color-below-ring  Feature  Categorical        None   \n",
      "16                 veil-type  Feature       Binary        None   \n",
      "17                veil-color  Feature  Categorical        None   \n",
      "18               ring-number  Feature  Categorical        None   \n",
      "19                 ring-type  Feature  Categorical        None   \n",
      "20         spore-print-color  Feature  Categorical        None   \n",
      "21                population  Feature  Categorical        None   \n",
      "22                   habitat  Feature  Categorical        None   \n",
      "\n",
      "                                          description units missing_values  \n",
      "0                                                None  None             no  \n",
      "1   bell=b,conical=c,convex=x,flat=f, knobbed=k,su...  None             no  \n",
      "2                fibrous=f,grooves=g,scaly=y,smooth=s  None             no  \n",
      "3   brown=n,buff=b,cinnamon=c,gray=g,green=r, pink...  None             no  \n",
      "4                                      bruises=t,no=f  None             no  \n",
      "5   almond=a,anise=l,creosote=c,fishy=y,foul=f, mu...  None             no  \n",
      "6            attached=a,descending=d,free=f,notched=n  None             no  \n",
      "7                         close=c,crowded=w,distant=d  None             no  \n",
      "8                                    broad=b,narrow=n  None             no  \n",
      "9   black=k,brown=n,buff=b,chocolate=h,gray=g, gre...  None             no  \n",
      "10                             enlarging=e,tapering=t  None             no  \n",
      "11  bulbous=b,club=c,cup=u,equal=e, rhizomorphs=z,...  None            yes  \n",
      "12                 fibrous=f,scaly=y,silky=k,smooth=s  None             no  \n",
      "13                 fibrous=f,scaly=y,silky=k,smooth=s  None             no  \n",
      "14  brown=n,buff=b,cinnamon=c,gray=g,orange=o, pin...  None             no  \n",
      "15  brown=n,buff=b,cinnamon=c,gray=g,orange=o, pin...  None             no  \n",
      "16                              partial=p,universal=u  None             no  \n",
      "17                  brown=n,orange=o,white=w,yellow=y  None             no  \n",
      "18                                 none=n,one=o,two=t  None             no  \n",
      "19  cobwebby=c,evanescent=e,flaring=f,large=l, non...  None             no  \n",
      "20  black=k,brown=n,buff=b,chocolate=h,green=r, or...  None             no  \n",
      "21  abundant=a,clustered=c,numerous=n, scattered=s...  None             no  \n",
      "22  grasses=g,leaves=l,meadows=m,paths=p, urban=u,...  None             no  \n"
     ]
    }
   ],
   "source": [
    "from ucimlrepo import fetch_ucirepo\n",
    "\n",
    "mushroom = fetch_ucirepo(id=73)\n",
    "\n",
    "data = mushroom.data.original\n",
    "\n",
    "print(mushroom.variables)"
   ]
  },
  {
   "cell_type": "code",
   "execution_count": 678,
   "id": "247UCDz2MIAJ",
   "metadata": {
    "colab": {
     "base_uri": "https://localhost:8080/",
     "height": 496
    },
    "executionInfo": {
     "elapsed": 262,
     "status": "ok",
     "timestamp": 1714403782887,
     "user": {
      "displayName": "Géraud de Langlade",
      "userId": "09292225826687032589"
     },
     "user_tz": -120
    },
    "id": "247UCDz2MIAJ",
    "outputId": "b2408e4f-00eb-4e76-9061-f863e8976b89"
   },
   "outputs": [
    {
     "data": {
      "text/html": [
       "<div>\n",
       "<style scoped>\n",
       "    .dataframe tbody tr th:only-of-type {\n",
       "        vertical-align: middle;\n",
       "    }\n",
       "\n",
       "    .dataframe tbody tr th {\n",
       "        vertical-align: top;\n",
       "    }\n",
       "\n",
       "    .dataframe thead th {\n",
       "        text-align: right;\n",
       "    }\n",
       "</style>\n",
       "<table border=\"1\" class=\"dataframe\">\n",
       "  <thead>\n",
       "    <tr style=\"text-align: right;\">\n",
       "      <th></th>\n",
       "      <th>cap-shape</th>\n",
       "      <th>cap-surface</th>\n",
       "      <th>cap-color</th>\n",
       "      <th>bruises</th>\n",
       "      <th>odor</th>\n",
       "      <th>gill-attachment</th>\n",
       "      <th>gill-spacing</th>\n",
       "      <th>gill-size</th>\n",
       "      <th>gill-color</th>\n",
       "      <th>stalk-shape</th>\n",
       "      <th>...</th>\n",
       "      <th>stalk-color-above-ring</th>\n",
       "      <th>stalk-color-below-ring</th>\n",
       "      <th>veil-type</th>\n",
       "      <th>veil-color</th>\n",
       "      <th>ring-number</th>\n",
       "      <th>ring-type</th>\n",
       "      <th>spore-print-color</th>\n",
       "      <th>population</th>\n",
       "      <th>habitat</th>\n",
       "      <th>poisonous</th>\n",
       "    </tr>\n",
       "  </thead>\n",
       "  <tbody>\n",
       "    <tr>\n",
       "      <th>0</th>\n",
       "      <td>x</td>\n",
       "      <td>s</td>\n",
       "      <td>n</td>\n",
       "      <td>t</td>\n",
       "      <td>p</td>\n",
       "      <td>f</td>\n",
       "      <td>c</td>\n",
       "      <td>n</td>\n",
       "      <td>k</td>\n",
       "      <td>e</td>\n",
       "      <td>...</td>\n",
       "      <td>w</td>\n",
       "      <td>w</td>\n",
       "      <td>p</td>\n",
       "      <td>w</td>\n",
       "      <td>o</td>\n",
       "      <td>p</td>\n",
       "      <td>k</td>\n",
       "      <td>s</td>\n",
       "      <td>u</td>\n",
       "      <td>p</td>\n",
       "    </tr>\n",
       "    <tr>\n",
       "      <th>1</th>\n",
       "      <td>x</td>\n",
       "      <td>s</td>\n",
       "      <td>y</td>\n",
       "      <td>t</td>\n",
       "      <td>a</td>\n",
       "      <td>f</td>\n",
       "      <td>c</td>\n",
       "      <td>b</td>\n",
       "      <td>k</td>\n",
       "      <td>e</td>\n",
       "      <td>...</td>\n",
       "      <td>w</td>\n",
       "      <td>w</td>\n",
       "      <td>p</td>\n",
       "      <td>w</td>\n",
       "      <td>o</td>\n",
       "      <td>p</td>\n",
       "      <td>n</td>\n",
       "      <td>n</td>\n",
       "      <td>g</td>\n",
       "      <td>e</td>\n",
       "    </tr>\n",
       "    <tr>\n",
       "      <th>2</th>\n",
       "      <td>b</td>\n",
       "      <td>s</td>\n",
       "      <td>w</td>\n",
       "      <td>t</td>\n",
       "      <td>l</td>\n",
       "      <td>f</td>\n",
       "      <td>c</td>\n",
       "      <td>b</td>\n",
       "      <td>n</td>\n",
       "      <td>e</td>\n",
       "      <td>...</td>\n",
       "      <td>w</td>\n",
       "      <td>w</td>\n",
       "      <td>p</td>\n",
       "      <td>w</td>\n",
       "      <td>o</td>\n",
       "      <td>p</td>\n",
       "      <td>n</td>\n",
       "      <td>n</td>\n",
       "      <td>m</td>\n",
       "      <td>e</td>\n",
       "    </tr>\n",
       "    <tr>\n",
       "      <th>3</th>\n",
       "      <td>x</td>\n",
       "      <td>y</td>\n",
       "      <td>w</td>\n",
       "      <td>t</td>\n",
       "      <td>p</td>\n",
       "      <td>f</td>\n",
       "      <td>c</td>\n",
       "      <td>n</td>\n",
       "      <td>n</td>\n",
       "      <td>e</td>\n",
       "      <td>...</td>\n",
       "      <td>w</td>\n",
       "      <td>w</td>\n",
       "      <td>p</td>\n",
       "      <td>w</td>\n",
       "      <td>o</td>\n",
       "      <td>p</td>\n",
       "      <td>k</td>\n",
       "      <td>s</td>\n",
       "      <td>u</td>\n",
       "      <td>p</td>\n",
       "    </tr>\n",
       "    <tr>\n",
       "      <th>4</th>\n",
       "      <td>x</td>\n",
       "      <td>s</td>\n",
       "      <td>g</td>\n",
       "      <td>f</td>\n",
       "      <td>n</td>\n",
       "      <td>f</td>\n",
       "      <td>w</td>\n",
       "      <td>b</td>\n",
       "      <td>k</td>\n",
       "      <td>t</td>\n",
       "      <td>...</td>\n",
       "      <td>w</td>\n",
       "      <td>w</td>\n",
       "      <td>p</td>\n",
       "      <td>w</td>\n",
       "      <td>o</td>\n",
       "      <td>e</td>\n",
       "      <td>n</td>\n",
       "      <td>a</td>\n",
       "      <td>g</td>\n",
       "      <td>e</td>\n",
       "    </tr>\n",
       "    <tr>\n",
       "      <th>...</th>\n",
       "      <td>...</td>\n",
       "      <td>...</td>\n",
       "      <td>...</td>\n",
       "      <td>...</td>\n",
       "      <td>...</td>\n",
       "      <td>...</td>\n",
       "      <td>...</td>\n",
       "      <td>...</td>\n",
       "      <td>...</td>\n",
       "      <td>...</td>\n",
       "      <td>...</td>\n",
       "      <td>...</td>\n",
       "      <td>...</td>\n",
       "      <td>...</td>\n",
       "      <td>...</td>\n",
       "      <td>...</td>\n",
       "      <td>...</td>\n",
       "      <td>...</td>\n",
       "      <td>...</td>\n",
       "      <td>...</td>\n",
       "      <td>...</td>\n",
       "    </tr>\n",
       "    <tr>\n",
       "      <th>8119</th>\n",
       "      <td>k</td>\n",
       "      <td>s</td>\n",
       "      <td>n</td>\n",
       "      <td>f</td>\n",
       "      <td>n</td>\n",
       "      <td>a</td>\n",
       "      <td>c</td>\n",
       "      <td>b</td>\n",
       "      <td>y</td>\n",
       "      <td>e</td>\n",
       "      <td>...</td>\n",
       "      <td>o</td>\n",
       "      <td>o</td>\n",
       "      <td>p</td>\n",
       "      <td>o</td>\n",
       "      <td>o</td>\n",
       "      <td>p</td>\n",
       "      <td>b</td>\n",
       "      <td>c</td>\n",
       "      <td>l</td>\n",
       "      <td>e</td>\n",
       "    </tr>\n",
       "    <tr>\n",
       "      <th>8120</th>\n",
       "      <td>x</td>\n",
       "      <td>s</td>\n",
       "      <td>n</td>\n",
       "      <td>f</td>\n",
       "      <td>n</td>\n",
       "      <td>a</td>\n",
       "      <td>c</td>\n",
       "      <td>b</td>\n",
       "      <td>y</td>\n",
       "      <td>e</td>\n",
       "      <td>...</td>\n",
       "      <td>o</td>\n",
       "      <td>o</td>\n",
       "      <td>p</td>\n",
       "      <td>n</td>\n",
       "      <td>o</td>\n",
       "      <td>p</td>\n",
       "      <td>b</td>\n",
       "      <td>v</td>\n",
       "      <td>l</td>\n",
       "      <td>e</td>\n",
       "    </tr>\n",
       "    <tr>\n",
       "      <th>8121</th>\n",
       "      <td>f</td>\n",
       "      <td>s</td>\n",
       "      <td>n</td>\n",
       "      <td>f</td>\n",
       "      <td>n</td>\n",
       "      <td>a</td>\n",
       "      <td>c</td>\n",
       "      <td>b</td>\n",
       "      <td>n</td>\n",
       "      <td>e</td>\n",
       "      <td>...</td>\n",
       "      <td>o</td>\n",
       "      <td>o</td>\n",
       "      <td>p</td>\n",
       "      <td>o</td>\n",
       "      <td>o</td>\n",
       "      <td>p</td>\n",
       "      <td>b</td>\n",
       "      <td>c</td>\n",
       "      <td>l</td>\n",
       "      <td>e</td>\n",
       "    </tr>\n",
       "    <tr>\n",
       "      <th>8122</th>\n",
       "      <td>k</td>\n",
       "      <td>y</td>\n",
       "      <td>n</td>\n",
       "      <td>f</td>\n",
       "      <td>y</td>\n",
       "      <td>f</td>\n",
       "      <td>c</td>\n",
       "      <td>n</td>\n",
       "      <td>b</td>\n",
       "      <td>t</td>\n",
       "      <td>...</td>\n",
       "      <td>w</td>\n",
       "      <td>w</td>\n",
       "      <td>p</td>\n",
       "      <td>w</td>\n",
       "      <td>o</td>\n",
       "      <td>e</td>\n",
       "      <td>w</td>\n",
       "      <td>v</td>\n",
       "      <td>l</td>\n",
       "      <td>p</td>\n",
       "    </tr>\n",
       "    <tr>\n",
       "      <th>8123</th>\n",
       "      <td>x</td>\n",
       "      <td>s</td>\n",
       "      <td>n</td>\n",
       "      <td>f</td>\n",
       "      <td>n</td>\n",
       "      <td>a</td>\n",
       "      <td>c</td>\n",
       "      <td>b</td>\n",
       "      <td>y</td>\n",
       "      <td>e</td>\n",
       "      <td>...</td>\n",
       "      <td>o</td>\n",
       "      <td>o</td>\n",
       "      <td>p</td>\n",
       "      <td>o</td>\n",
       "      <td>o</td>\n",
       "      <td>p</td>\n",
       "      <td>o</td>\n",
       "      <td>c</td>\n",
       "      <td>l</td>\n",
       "      <td>e</td>\n",
       "    </tr>\n",
       "  </tbody>\n",
       "</table>\n",
       "<p>8124 rows × 23 columns</p>\n",
       "</div>"
      ],
      "text/plain": [
       "     cap-shape cap-surface cap-color bruises odor gill-attachment  \\\n",
       "0            x           s         n       t    p               f   \n",
       "1            x           s         y       t    a               f   \n",
       "2            b           s         w       t    l               f   \n",
       "3            x           y         w       t    p               f   \n",
       "4            x           s         g       f    n               f   \n",
       "...        ...         ...       ...     ...  ...             ...   \n",
       "8119         k           s         n       f    n               a   \n",
       "8120         x           s         n       f    n               a   \n",
       "8121         f           s         n       f    n               a   \n",
       "8122         k           y         n       f    y               f   \n",
       "8123         x           s         n       f    n               a   \n",
       "\n",
       "     gill-spacing gill-size gill-color stalk-shape  ...  \\\n",
       "0               c         n          k           e  ...   \n",
       "1               c         b          k           e  ...   \n",
       "2               c         b          n           e  ...   \n",
       "3               c         n          n           e  ...   \n",
       "4               w         b          k           t  ...   \n",
       "...           ...       ...        ...         ...  ...   \n",
       "8119            c         b          y           e  ...   \n",
       "8120            c         b          y           e  ...   \n",
       "8121            c         b          n           e  ...   \n",
       "8122            c         n          b           t  ...   \n",
       "8123            c         b          y           e  ...   \n",
       "\n",
       "     stalk-color-above-ring stalk-color-below-ring veil-type veil-color  \\\n",
       "0                         w                      w         p          w   \n",
       "1                         w                      w         p          w   \n",
       "2                         w                      w         p          w   \n",
       "3                         w                      w         p          w   \n",
       "4                         w                      w         p          w   \n",
       "...                     ...                    ...       ...        ...   \n",
       "8119                      o                      o         p          o   \n",
       "8120                      o                      o         p          n   \n",
       "8121                      o                      o         p          o   \n",
       "8122                      w                      w         p          w   \n",
       "8123                      o                      o         p          o   \n",
       "\n",
       "     ring-number ring-type spore-print-color population habitat poisonous  \n",
       "0              o         p                 k          s       u         p  \n",
       "1              o         p                 n          n       g         e  \n",
       "2              o         p                 n          n       m         e  \n",
       "3              o         p                 k          s       u         p  \n",
       "4              o         e                 n          a       g         e  \n",
       "...          ...       ...               ...        ...     ...       ...  \n",
       "8119           o         p                 b          c       l         e  \n",
       "8120           o         p                 b          v       l         e  \n",
       "8121           o         p                 b          c       l         e  \n",
       "8122           o         e                 w          v       l         p  \n",
       "8123           o         p                 o          c       l         e  \n",
       "\n",
       "[8124 rows x 23 columns]"
      ]
     },
     "execution_count": 678,
     "metadata": {},
     "output_type": "execute_result"
    }
   ],
   "source": [
    "data"
   ]
  },
  {
   "cell_type": "markdown",
   "id": "-iTXz1sJOUF0",
   "metadata": {
    "id": "-iTXz1sJOUF0"
   },
   "source": [
    "# Preprossecing\n"
   ]
  },
  {
   "cell_type": "markdown",
   "id": "G5H8o_27OF1C",
   "metadata": {
    "id": "G5H8o_27OF1C"
   },
   "source": [
    "## Exploration des Données\n",
    "\n"
   ]
  },
  {
   "cell_type": "markdown",
   "id": "SzUdptdzJ56o",
   "metadata": {
    "id": "SzUdptdzJ56o"
   },
   "source": [
    "Tel que le jeu de données est fourni, **les données sont difficilement compréhensibles**, c'est pourquoi la première étape va être de **transformer les labels en leur véritable noms**, pour chacune des variables du dataset."
   ]
  },
  {
   "cell_type": "markdown",
   "id": "fc1483a1-64dd-4f9e-8501-d620fd62cca6",
   "metadata": {
    "id": "fc1483a1-64dd-4f9e-8501-d620fd62cca6"
   },
   "source": [
    " Voici le **mapping** permettant de retrouver le **vrai nom des catégories** de chaque colonne. Celui-ci a été créé à partir de la description des données faites sur le site du dataset."
   ]
  },
  {
   "cell_type": "code",
   "execution_count": 679,
   "id": "93733eb8-20c4-40dc-a94b-1996770de164",
   "metadata": {
    "colab": {
     "base_uri": "https://localhost:8080/",
     "height": 496
    },
    "executionInfo": {
     "elapsed": 980,
     "status": "ok",
     "timestamp": 1714403783865,
     "user": {
      "displayName": "Géraud de Langlade",
      "userId": "09292225826687032589"
     },
     "user_tz": -120
    },
    "id": "93733eb8-20c4-40dc-a94b-1996770de164",
    "outputId": "281ef606-5615-411d-ddbb-fe206ff15b79"
   },
   "outputs": [
    {
     "data": {
      "text/html": [
       "<div>\n",
       "<style scoped>\n",
       "    .dataframe tbody tr th:only-of-type {\n",
       "        vertical-align: middle;\n",
       "    }\n",
       "\n",
       "    .dataframe tbody tr th {\n",
       "        vertical-align: top;\n",
       "    }\n",
       "\n",
       "    .dataframe thead th {\n",
       "        text-align: right;\n",
       "    }\n",
       "</style>\n",
       "<table border=\"1\" class=\"dataframe\">\n",
       "  <thead>\n",
       "    <tr style=\"text-align: right;\">\n",
       "      <th></th>\n",
       "      <th>cap-shape</th>\n",
       "      <th>cap-surface</th>\n",
       "      <th>cap-color</th>\n",
       "      <th>bruises</th>\n",
       "      <th>odor</th>\n",
       "      <th>gill-attachment</th>\n",
       "      <th>gill-spacing</th>\n",
       "      <th>gill-size</th>\n",
       "      <th>gill-color</th>\n",
       "      <th>stalk-shape</th>\n",
       "      <th>...</th>\n",
       "      <th>stalk-color-above-ring</th>\n",
       "      <th>stalk-color-below-ring</th>\n",
       "      <th>veil-type</th>\n",
       "      <th>veil-color</th>\n",
       "      <th>ring-number</th>\n",
       "      <th>ring-type</th>\n",
       "      <th>spore-print-color</th>\n",
       "      <th>population</th>\n",
       "      <th>habitat</th>\n",
       "      <th>poisonous</th>\n",
       "    </tr>\n",
       "  </thead>\n",
       "  <tbody>\n",
       "    <tr>\n",
       "      <th>0</th>\n",
       "      <td>convex</td>\n",
       "      <td>smooth</td>\n",
       "      <td>brown</td>\n",
       "      <td>bruises</td>\n",
       "      <td>pungent</td>\n",
       "      <td>free</td>\n",
       "      <td>close</td>\n",
       "      <td>narrow</td>\n",
       "      <td>black</td>\n",
       "      <td>enlarging</td>\n",
       "      <td>...</td>\n",
       "      <td>white</td>\n",
       "      <td>white</td>\n",
       "      <td>partial</td>\n",
       "      <td>white</td>\n",
       "      <td>one</td>\n",
       "      <td>pendant</td>\n",
       "      <td>black</td>\n",
       "      <td>scattered</td>\n",
       "      <td>urban</td>\n",
       "      <td>poisonous</td>\n",
       "    </tr>\n",
       "    <tr>\n",
       "      <th>1</th>\n",
       "      <td>convex</td>\n",
       "      <td>smooth</td>\n",
       "      <td>yellow</td>\n",
       "      <td>bruises</td>\n",
       "      <td>almond</td>\n",
       "      <td>free</td>\n",
       "      <td>close</td>\n",
       "      <td>broad</td>\n",
       "      <td>black</td>\n",
       "      <td>enlarging</td>\n",
       "      <td>...</td>\n",
       "      <td>white</td>\n",
       "      <td>white</td>\n",
       "      <td>partial</td>\n",
       "      <td>white</td>\n",
       "      <td>one</td>\n",
       "      <td>pendant</td>\n",
       "      <td>brown</td>\n",
       "      <td>numerous</td>\n",
       "      <td>grasses</td>\n",
       "      <td>edible</td>\n",
       "    </tr>\n",
       "    <tr>\n",
       "      <th>2</th>\n",
       "      <td>bell</td>\n",
       "      <td>smooth</td>\n",
       "      <td>white</td>\n",
       "      <td>bruises</td>\n",
       "      <td>anise</td>\n",
       "      <td>free</td>\n",
       "      <td>close</td>\n",
       "      <td>broad</td>\n",
       "      <td>brown</td>\n",
       "      <td>enlarging</td>\n",
       "      <td>...</td>\n",
       "      <td>white</td>\n",
       "      <td>white</td>\n",
       "      <td>partial</td>\n",
       "      <td>white</td>\n",
       "      <td>one</td>\n",
       "      <td>pendant</td>\n",
       "      <td>brown</td>\n",
       "      <td>numerous</td>\n",
       "      <td>meadows</td>\n",
       "      <td>edible</td>\n",
       "    </tr>\n",
       "    <tr>\n",
       "      <th>3</th>\n",
       "      <td>convex</td>\n",
       "      <td>scaly</td>\n",
       "      <td>white</td>\n",
       "      <td>bruises</td>\n",
       "      <td>pungent</td>\n",
       "      <td>free</td>\n",
       "      <td>close</td>\n",
       "      <td>narrow</td>\n",
       "      <td>brown</td>\n",
       "      <td>enlarging</td>\n",
       "      <td>...</td>\n",
       "      <td>white</td>\n",
       "      <td>white</td>\n",
       "      <td>partial</td>\n",
       "      <td>white</td>\n",
       "      <td>one</td>\n",
       "      <td>pendant</td>\n",
       "      <td>black</td>\n",
       "      <td>scattered</td>\n",
       "      <td>urban</td>\n",
       "      <td>poisonous</td>\n",
       "    </tr>\n",
       "    <tr>\n",
       "      <th>4</th>\n",
       "      <td>convex</td>\n",
       "      <td>smooth</td>\n",
       "      <td>gray</td>\n",
       "      <td>no</td>\n",
       "      <td>none</td>\n",
       "      <td>free</td>\n",
       "      <td>crowded</td>\n",
       "      <td>broad</td>\n",
       "      <td>black</td>\n",
       "      <td>tapering</td>\n",
       "      <td>...</td>\n",
       "      <td>white</td>\n",
       "      <td>white</td>\n",
       "      <td>partial</td>\n",
       "      <td>white</td>\n",
       "      <td>one</td>\n",
       "      <td>evanescent</td>\n",
       "      <td>brown</td>\n",
       "      <td>abundant</td>\n",
       "      <td>grasses</td>\n",
       "      <td>edible</td>\n",
       "    </tr>\n",
       "    <tr>\n",
       "      <th>...</th>\n",
       "      <td>...</td>\n",
       "      <td>...</td>\n",
       "      <td>...</td>\n",
       "      <td>...</td>\n",
       "      <td>...</td>\n",
       "      <td>...</td>\n",
       "      <td>...</td>\n",
       "      <td>...</td>\n",
       "      <td>...</td>\n",
       "      <td>...</td>\n",
       "      <td>...</td>\n",
       "      <td>...</td>\n",
       "      <td>...</td>\n",
       "      <td>...</td>\n",
       "      <td>...</td>\n",
       "      <td>...</td>\n",
       "      <td>...</td>\n",
       "      <td>...</td>\n",
       "      <td>...</td>\n",
       "      <td>...</td>\n",
       "      <td>...</td>\n",
       "    </tr>\n",
       "    <tr>\n",
       "      <th>8119</th>\n",
       "      <td>knobbed</td>\n",
       "      <td>smooth</td>\n",
       "      <td>brown</td>\n",
       "      <td>no</td>\n",
       "      <td>none</td>\n",
       "      <td>attached</td>\n",
       "      <td>close</td>\n",
       "      <td>broad</td>\n",
       "      <td>yellow</td>\n",
       "      <td>enlarging</td>\n",
       "      <td>...</td>\n",
       "      <td>orange</td>\n",
       "      <td>orange</td>\n",
       "      <td>partial</td>\n",
       "      <td>orange</td>\n",
       "      <td>one</td>\n",
       "      <td>pendant</td>\n",
       "      <td>buff</td>\n",
       "      <td>clustered</td>\n",
       "      <td>leaves</td>\n",
       "      <td>edible</td>\n",
       "    </tr>\n",
       "    <tr>\n",
       "      <th>8120</th>\n",
       "      <td>convex</td>\n",
       "      <td>smooth</td>\n",
       "      <td>brown</td>\n",
       "      <td>no</td>\n",
       "      <td>none</td>\n",
       "      <td>attached</td>\n",
       "      <td>close</td>\n",
       "      <td>broad</td>\n",
       "      <td>yellow</td>\n",
       "      <td>enlarging</td>\n",
       "      <td>...</td>\n",
       "      <td>orange</td>\n",
       "      <td>orange</td>\n",
       "      <td>partial</td>\n",
       "      <td>brown</td>\n",
       "      <td>one</td>\n",
       "      <td>pendant</td>\n",
       "      <td>buff</td>\n",
       "      <td>several</td>\n",
       "      <td>leaves</td>\n",
       "      <td>edible</td>\n",
       "    </tr>\n",
       "    <tr>\n",
       "      <th>8121</th>\n",
       "      <td>flat</td>\n",
       "      <td>smooth</td>\n",
       "      <td>brown</td>\n",
       "      <td>no</td>\n",
       "      <td>none</td>\n",
       "      <td>attached</td>\n",
       "      <td>close</td>\n",
       "      <td>broad</td>\n",
       "      <td>brown</td>\n",
       "      <td>enlarging</td>\n",
       "      <td>...</td>\n",
       "      <td>orange</td>\n",
       "      <td>orange</td>\n",
       "      <td>partial</td>\n",
       "      <td>orange</td>\n",
       "      <td>one</td>\n",
       "      <td>pendant</td>\n",
       "      <td>buff</td>\n",
       "      <td>clustered</td>\n",
       "      <td>leaves</td>\n",
       "      <td>edible</td>\n",
       "    </tr>\n",
       "    <tr>\n",
       "      <th>8122</th>\n",
       "      <td>knobbed</td>\n",
       "      <td>scaly</td>\n",
       "      <td>brown</td>\n",
       "      <td>no</td>\n",
       "      <td>fishy</td>\n",
       "      <td>free</td>\n",
       "      <td>close</td>\n",
       "      <td>narrow</td>\n",
       "      <td>buff</td>\n",
       "      <td>tapering</td>\n",
       "      <td>...</td>\n",
       "      <td>white</td>\n",
       "      <td>white</td>\n",
       "      <td>partial</td>\n",
       "      <td>white</td>\n",
       "      <td>one</td>\n",
       "      <td>evanescent</td>\n",
       "      <td>white</td>\n",
       "      <td>several</td>\n",
       "      <td>leaves</td>\n",
       "      <td>poisonous</td>\n",
       "    </tr>\n",
       "    <tr>\n",
       "      <th>8123</th>\n",
       "      <td>convex</td>\n",
       "      <td>smooth</td>\n",
       "      <td>brown</td>\n",
       "      <td>no</td>\n",
       "      <td>none</td>\n",
       "      <td>attached</td>\n",
       "      <td>close</td>\n",
       "      <td>broad</td>\n",
       "      <td>yellow</td>\n",
       "      <td>enlarging</td>\n",
       "      <td>...</td>\n",
       "      <td>orange</td>\n",
       "      <td>orange</td>\n",
       "      <td>partial</td>\n",
       "      <td>orange</td>\n",
       "      <td>one</td>\n",
       "      <td>pendant</td>\n",
       "      <td>orange</td>\n",
       "      <td>clustered</td>\n",
       "      <td>leaves</td>\n",
       "      <td>edible</td>\n",
       "    </tr>\n",
       "  </tbody>\n",
       "</table>\n",
       "<p>8124 rows × 23 columns</p>\n",
       "</div>"
      ],
      "text/plain": [
       "     cap-shape cap-surface cap-color  bruises     odor gill-attachment  \\\n",
       "0       convex      smooth     brown  bruises  pungent            free   \n",
       "1       convex      smooth    yellow  bruises   almond            free   \n",
       "2         bell      smooth     white  bruises    anise            free   \n",
       "3       convex       scaly     white  bruises  pungent            free   \n",
       "4       convex      smooth      gray       no     none            free   \n",
       "...        ...         ...       ...      ...      ...             ...   \n",
       "8119   knobbed      smooth     brown       no     none        attached   \n",
       "8120    convex      smooth     brown       no     none        attached   \n",
       "8121      flat      smooth     brown       no     none        attached   \n",
       "8122   knobbed       scaly     brown       no    fishy            free   \n",
       "8123    convex      smooth     brown       no     none        attached   \n",
       "\n",
       "     gill-spacing gill-size gill-color stalk-shape  ...  \\\n",
       "0           close    narrow      black   enlarging  ...   \n",
       "1           close     broad      black   enlarging  ...   \n",
       "2           close     broad      brown   enlarging  ...   \n",
       "3           close    narrow      brown   enlarging  ...   \n",
       "4         crowded     broad      black    tapering  ...   \n",
       "...           ...       ...        ...         ...  ...   \n",
       "8119        close     broad     yellow   enlarging  ...   \n",
       "8120        close     broad     yellow   enlarging  ...   \n",
       "8121        close     broad      brown   enlarging  ...   \n",
       "8122        close    narrow       buff    tapering  ...   \n",
       "8123        close     broad     yellow   enlarging  ...   \n",
       "\n",
       "     stalk-color-above-ring stalk-color-below-ring veil-type veil-color  \\\n",
       "0                     white                  white   partial      white   \n",
       "1                     white                  white   partial      white   \n",
       "2                     white                  white   partial      white   \n",
       "3                     white                  white   partial      white   \n",
       "4                     white                  white   partial      white   \n",
       "...                     ...                    ...       ...        ...   \n",
       "8119                 orange                 orange   partial     orange   \n",
       "8120                 orange                 orange   partial      brown   \n",
       "8121                 orange                 orange   partial     orange   \n",
       "8122                  white                  white   partial      white   \n",
       "8123                 orange                 orange   partial     orange   \n",
       "\n",
       "     ring-number   ring-type spore-print-color population  habitat  poisonous  \n",
       "0            one     pendant             black  scattered    urban  poisonous  \n",
       "1            one     pendant             brown   numerous  grasses     edible  \n",
       "2            one     pendant             brown   numerous  meadows     edible  \n",
       "3            one     pendant             black  scattered    urban  poisonous  \n",
       "4            one  evanescent             brown   abundant  grasses     edible  \n",
       "...          ...         ...               ...        ...      ...        ...  \n",
       "8119         one     pendant              buff  clustered   leaves     edible  \n",
       "8120         one     pendant              buff    several   leaves     edible  \n",
       "8121         one     pendant              buff  clustered   leaves     edible  \n",
       "8122         one  evanescent             white    several   leaves  poisonous  \n",
       "8123         one     pendant            orange  clustered   leaves     edible  \n",
       "\n",
       "[8124 rows x 23 columns]"
      ]
     },
     "execution_count": 679,
     "metadata": {},
     "output_type": "execute_result"
    }
   ],
   "source": [
    "l_dct_feat = data.to_dict('records')\n",
    "mapping = {\n",
    "    'poisonous': {'e': 'edible', 'p': 'poisonous'},\n",
    "    'cap-shape': {'b': 'bell', 'c': 'conical', 'x': 'convex', 'f': 'flat', 'k': 'knobbed', 's': 'sunken'},\n",
    "    'cap-surface': {'f': 'fibrous', 'g': 'grooves', 'y': 'scaly', 's': 'smooth'},\n",
    "    'cap-color': {'n': 'brown', 'b': 'buff', 'c': 'cinnamon', 'g': 'gray', 'r': 'green', 'p': 'pink', 'u': 'purple', 'e': 'red', 'w': 'white', 'y': 'yellow'},\n",
    "    'bruises': {'t': 'bruises', 'f': 'no'},\n",
    "    'odor': {'a': 'almond', 'l': 'anise', 'c': 'creosote', 'y': 'fishy', 'f': 'foul', 'm': 'musty', 'n': 'none', 'p': 'pungent', 's': 'spicy'},\n",
    "    'gill-attachment': {'a': 'attached', 'd': 'descending', 'f': 'free', 'n': 'notched'},\n",
    "    'gill-spacing': {'c': 'close', 'w': 'crowded', 'd': 'distant'},\n",
    "    'gill-size': {'b': 'broad', 'n': 'narrow'},\n",
    "    'gill-color': {'k': 'black', 'n': 'brown', 'b': 'buff', 'h': 'chocolate', 'g': 'gray', 'r': 'green', 'o': 'orange', 'p': 'pink', 'u': 'purple', 'e': 'red', 'w': 'white', 'y': 'yellow'},\n",
    "    'stalk-shape': {'e': 'enlarging', 't': 'tapering'},\n",
    "    'stalk-root': {'b': 'bulbous', 'c': 'club', 'u': 'cup', 'e': 'equal', 'z': 'rhizomorphs', 'r': 'rooted', '?': 'missing'},\n",
    "    'stalk-surface-above-ring': {'f': 'fibrous', 'y': 'scaly', 'k': 'silky', 's': 'smooth'},\n",
    "    'stalk-surface-below-ring': {'f': 'fibrous', 'y': 'scaly', 'k': 'silky', 's': 'smooth'},\n",
    "    'stalk-color-above-ring': {'n': 'brown', 'b': 'buff', 'c': 'cinnamon', 'g': 'gray', 'o': 'orange', 'p': 'pink', 'e': 'red', 'w': 'white', 'y': 'yellow'},\n",
    "    'stalk-color-below-ring': {'n': 'brown', 'b': 'buff', 'c': 'cinnamon', 'g': 'gray', 'o': 'orange', 'p': 'pink', 'e': 'red', 'w': 'white', 'y': 'yellow'},\n",
    "    'veil-type': {'p': 'partial', 'u': 'universal'},\n",
    "    'veil-color': {'n': 'brown', 'o': 'orange', 'w': 'white', 'y': 'yellow'},\n",
    "    'ring-number': {'n': 'none', 'o': 'one', 't': 'two'},\n",
    "    'ring-type': {'c': 'cobwebby', 'e': 'evanescent', 'f': 'flaring', 'l': 'large', 'n': 'none', 'p': 'pendant', 's': 'sheathing', 'z': 'zone'},\n",
    "    'spore-print-color': {'k': 'black', 'n': 'brown', 'b': 'buff', 'h': 'chocolate', 'r': 'green', 'o': 'orange', 'u': 'purple', 'w': 'white', 'y': 'yellow'},\n",
    "    'population': {'a': 'abundant', 'c': 'clustered', 'n': 'numerous', 's': 'scattered', 'v': 'several', 'y': 'solitary'},\n",
    "    'habitat': {'g': 'grasses', 'l': 'leaves', 'm': 'meadows', 'p': 'paths', 'u': 'urban', 'w': 'waste', 'd': 'woods'}\n",
    "}\n",
    "\n",
    "l_dct_feat = [{key: mapping.get(key).get(value)for key, value in dct.items()} for dct in l_dct_feat]\n",
    "df_main = pd.DataFrame(l_dct_feat)\n",
    "df_main"
   ]
  },
  {
   "cell_type": "markdown",
   "id": "iLumA4iaA1XI",
   "metadata": {
    "id": "iLumA4iaA1XI"
   },
   "source": [
    "Pour **respecter les instructions**, le dataframe original est re-samplé à l'aide de **`frac=0.5`**, retenant ainsi **50% du dataframe original**. En outre, **`random_state=42`** est utilisé pour garantir la **reproducibilité des résultats** en assurant la constance des tirages aléatoires."
   ]
  },
  {
   "cell_type": "code",
   "execution_count": 680,
   "id": "8324876c-8425-4b26-bcd6-0600af3b9865",
   "metadata": {
    "executionInfo": {
     "elapsed": 10,
     "status": "ok",
     "timestamp": 1714403783865,
     "user": {
      "displayName": "Géraud de Langlade",
      "userId": "09292225826687032589"
     },
     "user_tz": -120
    },
    "id": "8324876c-8425-4b26-bcd6-0600af3b9865"
   },
   "outputs": [],
   "source": [
    "df_main = df_main.sample(frac=0.5, random_state=42)"
   ]
  },
  {
   "cell_type": "markdown",
   "id": "QeS0CfkD1Dfc",
   "metadata": {
    "id": "QeS0CfkD1Dfc"
   },
   "source": [
    "Il est décidé, au regard de la **problématique de santé publique**, que la variable cible sera définie par : \"**le champignon est vénimeux**\". Il est donc essentiel d'éviter de classer un \"champignon vénimeux\" en \"champignon comestible\", **minimisant ainsi les faux négatifs**. En conséquence, une attention particulière sera portée à l'indicateur de performance **False Negative Rate** (FNR) et par conséquent aussi au **recall**, Sachant que:\n",
    "\n",
    "\n",
    "$$\n",
    "\\text{Recall} = 1 - \\text{FNR} = 1 - \\left(\\frac{FN}{FN + TP}\\right)\n",
    "$$\n"
   ]
  },
  {
   "cell_type": "markdown",
   "id": "JYw9G15JKbS2",
   "metadata": {
    "id": "JYw9G15JKbS2"
   },
   "source": [
    "Il est nécessaire de **vérifier le nombre de catégories présentes dans chaque covariable** afin d'identifier et d'éliminer celles qui ne comportent qu'une seule catégorie, car elles n'apportent **aucune information supplémentaire**."
   ]
  },
  {
   "cell_type": "code",
   "execution_count": 681,
   "id": "DTGoAohWJv5V",
   "metadata": {
    "colab": {
     "base_uri": "https://localhost:8080/"
    },
    "executionInfo": {
     "elapsed": 10,
     "status": "ok",
     "timestamp": 1714403783865,
     "user": {
      "displayName": "Géraud de Langlade",
      "userId": "09292225826687032589"
     },
     "user_tz": -120
    },
    "id": "DTGoAohWJv5V",
    "outputId": "4e5755bc-8885-4afd-a640-c36870cf08a1"
   },
   "outputs": [
    {
     "data": {
      "text/plain": [
       "cap-shape                    6\n",
       "cap-surface                  4\n",
       "cap-color                   10\n",
       "bruises                      2\n",
       "odor                         9\n",
       "gill-attachment              2\n",
       "gill-spacing                 2\n",
       "gill-size                    2\n",
       "gill-color                  12\n",
       "stalk-shape                  2\n",
       "stalk-root                   4\n",
       "stalk-surface-above-ring     4\n",
       "stalk-surface-below-ring     4\n",
       "stalk-color-above-ring       9\n",
       "stalk-color-below-ring       9\n",
       "veil-type                    1\n",
       "veil-color                   4\n",
       "ring-number                  3\n",
       "ring-type                    5\n",
       "spore-print-color            9\n",
       "population                   6\n",
       "habitat                      7\n",
       "poisonous                    2\n",
       "dtype: int64"
      ]
     },
     "execution_count": 681,
     "metadata": {},
     "output_type": "execute_result"
    }
   ],
   "source": [
    "df_main.nunique()"
   ]
  },
  {
   "cell_type": "markdown",
   "id": "62yBucQRLgID",
   "metadata": {
    "id": "62yBucQRLgID"
   },
   "source": [
    "La covariable **`veil-type`** (type de voile du champignon) est donc **supprimée** du dataset."
   ]
  },
  {
   "cell_type": "code",
   "execution_count": 682,
   "id": "TwYGLXCOLxPh",
   "metadata": {
    "executionInfo": {
     "elapsed": 8,
     "status": "ok",
     "timestamp": 1714403783865,
     "user": {
      "displayName": "Géraud de Langlade",
      "userId": "09292225826687032589"
     },
     "user_tz": -120
    },
    "id": "TwYGLXCOLxPh"
   },
   "outputs": [],
   "source": [
    "df_main.drop('veil-type', axis=1, inplace=True)"
   ]
  },
  {
   "cell_type": "markdown",
   "id": "1dIRpQuHFQ43",
   "metadata": {
    "id": "1dIRpQuHFQ43"
   },
   "source": [
    "D'après les métadonnées récupérées avec le jeu de de données, la variable **`stalk-root`** (racine du pied) contient des valeurs manquantes. Vérifions si c'est bien le cas."
   ]
  },
  {
   "cell_type": "code",
   "execution_count": 683,
   "id": "UbMJq3WY0xtr",
   "metadata": {
    "colab": {
     "base_uri": "https://localhost:8080/"
    },
    "executionInfo": {
     "elapsed": 8,
     "status": "ok",
     "timestamp": 1714403783865,
     "user": {
      "displayName": "Géraud de Langlade",
      "userId": "09292225826687032589"
     },
     "user_tz": -120
    },
    "id": "UbMJq3WY0xtr",
    "outputId": "a3c5ad02-8e69-47fe-8dba-a2c088ddfd4f"
   },
   "outputs": [
    {
     "name": "stdout",
     "output_type": "stream",
     "text": [
      "Pourcentage de valeurs manquantes par covariable:\n",
      "cap-shape                     0.0%\n",
      "cap-surface                   0.0%\n",
      "cap-color                     0.0%\n",
      "bruises                       0.0%\n",
      "odor                          0.0%\n",
      "gill-attachment               0.0%\n",
      "gill-spacing                  0.0%\n",
      "gill-size                     0.0%\n",
      "gill-color                    0.0%\n",
      "stalk-shape                   0.0%\n",
      "stalk-root                  29.89%\n",
      "stalk-surface-above-ring      0.0%\n",
      "stalk-surface-below-ring      0.0%\n",
      "stalk-color-above-ring        0.0%\n",
      "stalk-color-below-ring        0.0%\n",
      "veil-color                    0.0%\n",
      "ring-number                   0.0%\n",
      "ring-type                     0.0%\n",
      "spore-print-color             0.0%\n",
      "population                    0.0%\n",
      "habitat                       0.0%\n",
      "poisonous                     0.0%\n",
      "dtype: object\n"
     ]
    }
   ],
   "source": [
    "print(\"Pourcentage de valeurs manquantes par covariable:\")\n",
    "print((df_main.isna().sum() / len(df_main) * 100).round(2).astype(str) + '%')"
   ]
  },
  {
   "cell_type": "markdown",
   "id": "Xjbl6Fi21VmW",
   "metadata": {
    "id": "Xjbl6Fi21VmW"
   },
   "source": [
    "Il est observé que le champ **`stalk-root`** presque **30% de valeurs manquantes**. Il est donc nécessaire de décider si la variable `stalk-root` doit être conservée. Pour ce faire, une **régression LASSO** peut être effectuée pour vérifier si les coefficients associés à certaines catégories de cette variable sont significativement différents de zéro, même avec un **hyperparamètre de régularisation** élevé.\n",
    "\n"
   ]
  },
  {
   "cell_type": "code",
   "execution_count": 684,
   "id": "2bc03ffe-084b-432b-abcf-6b6ef554d935",
   "metadata": {
    "colab": {
     "base_uri": "https://localhost:8080/"
    },
    "executionInfo": {
     "elapsed": 7,
     "status": "ok",
     "timestamp": 1714403783865,
     "user": {
      "displayName": "Géraud de Langlade",
      "userId": "09292225826687032589"
     },
     "user_tz": -120
    },
    "id": "2bc03ffe-084b-432b-abcf-6b6ef554d935",
    "outputId": "fd146cea-c79b-45ef-c62a-11842903178d"
   },
   "outputs": [
    {
     "data": {
      "text/plain": [
       "array([-0.00000000e+00,  0.00000000e+00, -0.00000000e+00,  0.00000000e+00,\n",
       "        0.00000000e+00, -0.00000000e+00, -0.00000000e+00,  0.00000000e+00,\n",
       "        0.00000000e+00,  0.00000000e+00, -0.00000000e+00,  0.00000000e+00,\n",
       "       -0.00000000e+00,  0.00000000e+00, -0.00000000e+00,  0.00000000e+00,\n",
       "       -0.00000000e+00,  0.00000000e+00, -0.00000000e+00, -0.00000000e+00,\n",
       "       -0.00000000e+00,  0.00000000e+00, -4.50432337e-01, -4.57263692e-01,\n",
       "        0.00000000e+00,  0.00000000e+00,  9.60693394e-02,  0.00000000e+00,\n",
       "       -6.20837000e-01,  0.00000000e+00,  0.00000000e+00, -0.00000000e+00,\n",
       "        0.00000000e+00,  0.00000000e+00, -0.00000000e+00, -1.75081322e-01,\n",
       "        4.65780187e-15, -0.00000000e+00, -0.00000000e+00,  0.00000000e+00,\n",
       "        0.00000000e+00,  0.00000000e+00,  0.00000000e+00, -0.00000000e+00,\n",
       "       -0.00000000e+00, -0.00000000e+00, -0.00000000e+00, -0.00000000e+00,\n",
       "       -0.00000000e+00,  0.00000000e+00, -0.00000000e+00,  1.89024257e-02,\n",
       "       -0.00000000e+00,  0.00000000e+00, -0.00000000e+00, -0.00000000e+00,\n",
       "        0.00000000e+00,  4.81952961e-02, -1.14716005e-02, -0.00000000e+00,\n",
       "        0.00000000e+00,  0.00000000e+00, -0.00000000e+00,  0.00000000e+00,\n",
       "        0.00000000e+00,  0.00000000e+00, -0.00000000e+00, -0.00000000e+00,\n",
       "        0.00000000e+00, -0.00000000e+00, -0.00000000e+00,  0.00000000e+00,\n",
       "        0.00000000e+00,  0.00000000e+00,  0.00000000e+00, -0.00000000e+00,\n",
       "       -0.00000000e+00,  0.00000000e+00, -0.00000000e+00, -0.00000000e+00,\n",
       "        0.00000000e+00, -0.00000000e+00, -0.00000000e+00,  0.00000000e+00,\n",
       "        0.00000000e+00,  0.00000000e+00, -0.00000000e+00,  0.00000000e+00,\n",
       "        0.00000000e+00, -0.00000000e+00,  0.00000000e+00,  0.00000000e+00,\n",
       "       -3.36241922e-02, -3.75983419e-02, -4.38397848e-02, -0.00000000e+00,\n",
       "        6.77173881e-02,  0.00000000e+00, -0.00000000e+00, -0.00000000e+00,\n",
       "        0.00000000e+00, -0.00000000e+00, -0.00000000e+00,  0.00000000e+00,\n",
       "       -0.00000000e+00, -0.00000000e+00,  4.30987077e-02, -0.00000000e+00,\n",
       "       -0.00000000e+00,  0.00000000e+00, -0.00000000e+00,  0.00000000e+00,\n",
       "        0.00000000e+00, -0.00000000e+00, -0.00000000e+00])"
      ]
     },
     "execution_count": 684,
     "metadata": {},
     "output_type": "execute_result"
    }
   ],
   "source": [
    "from sklearn.linear_model import Lasso\n",
    "\n",
    "df_one_hot = pd.get_dummies(df_main, dtype= float)\n",
    "\n",
    "Y = df_one_hot['poisonous_poisonous'].copy()\n",
    "X = df_one_hot.drop(['poisonous_poisonous', 'poisonous_edible'], axis=1).copy()\n",
    "\n",
    "lasso_reg_nan = Lasso(alpha=0.01, max_iter=2000)\n",
    "\n",
    "lasso_reg_nan.fit(X, y = Y)\n",
    "lasso_reg_nan.coef_"
   ]
  },
  {
   "cell_type": "code",
   "execution_count": 685,
   "id": "095667b2-d329-4ca8-a135-5409c6184f55",
   "metadata": {
    "colab": {
     "base_uri": "https://localhost:8080/"
    },
    "executionInfo": {
     "elapsed": 6,
     "status": "ok",
     "timestamp": 1714403783865,
     "user": {
      "displayName": "Géraud de Langlade",
      "userId": "09292225826687032589"
     },
     "user_tz": -120
    },
    "id": "095667b2-d329-4ca8-a135-5409c6184f55",
    "outputId": "9de085cc-1235-4d70-ad4a-a91515e0c482"
   },
   "outputs": [
    {
     "data": {
      "text/plain": [
       "['odor_almond',\n",
       " 'odor_anise',\n",
       " 'odor_foul',\n",
       " 'odor_none',\n",
       " 'gill-size_broad',\n",
       " 'gill-size_narrow',\n",
       " 'stalk-root_bulbous',\n",
       " 'stalk-surface-above-ring_silky',\n",
       " 'stalk-surface-above-ring_smooth',\n",
       " 'ring-type_pendant',\n",
       " 'spore-print-color_black',\n",
       " 'spore-print-color_brown',\n",
       " 'spore-print-color_chocolate',\n",
       " 'population_several']"
      ]
     },
     "execution_count": 685,
     "metadata": {},
     "output_type": "execute_result"
    }
   ],
   "source": [
    "mapping_col_lasso_coef = [col for col, coef in zip(X.columns, lasso_reg_nan.coef_) if coef != 0]\n",
    "mapping_col_lasso_coef"
   ]
  },
  {
   "cell_type": "markdown",
   "id": "04973e49-1bf2-4814-871a-ef35e0fb8a74",
   "metadata": {
    "id": "04973e49-1bf2-4814-871a-ef35e0fb8a74"
   },
   "source": [
    "Il est constaté que **`stalk-root_bulbous`** figure parmi les **14 sous-covariables** (obtenues après binarisation) ayant le plus d'impact sur la vénéneusité d'un champignon. Étant donné que cette catégorie est liée à la covariable **`stalk-root`**, la décision est prise de **ne pas supprimer** la variable **`stalk-root`** du dataframe original.\n"
   ]
  },
  {
   "cell_type": "markdown",
   "id": "93d68356-312c-46e2-ba45-d708fa4a8060",
   "metadata": {
    "id": "93d68356-312c-46e2-ba45-d708fa4a8060"
   },
   "source": [
    "**Voir comment gérer la binarisation, car si une catégorie de la covariable est très peu présente alors il vaut mieux il vaut mieux fixer une borne haute assez basse afin d'avoir plus de 1 pour cette variable et donc plus d'exemples avec cette valeur disponibles.**\n",
    "\n"
   ]
  },
  {
   "cell_type": "markdown",
   "id": "ff7843be-3b74-47af-b0c0-f4dd75086ea4",
   "metadata": {
    "id": "ff7843be-3b74-47af-b0c0-f4dd75086ea4"
   },
   "source": [
    "# Gérer les valeurs manquantes"
   ]
  },
  {
   "cell_type": "markdown",
   "id": "c98842d2-1e46-43ab-8f82-6328c1b4f457",
   "metadata": {
    "id": "c98842d2-1e46-43ab-8f82-6328c1b4f457"
   },
   "source": [
    "Plusieurs stratégies sont envisageables pour gérer les **valeurs manquantes**. Parmi les techniques simples, on peut remplacer ces valeurs en utilisant la catégorie **la plus fréquente**, les traiter comme une **nouvelle catégorie**, ou **imputer une nouvelle valeur** en tenant compte des valeurs des autres colonnes. Cette dernière méthode est celle que nous allons tenter de mettre en place.\n",
    "\n",
    "Étant donné qu'il s'agit de **valeurs catégoriques manquantes**, il sera nécessaire de **binariser** toutes nos covariables, puis d'utiliser un **\"imputer\"**.\n",
    "\n"
   ]
  },
  {
   "cell_type": "markdown",
   "id": "8937552b-e558-4a33-aabb-7257907b65e9",
   "metadata": {
    "id": "8937552b-e558-4a33-aabb-7257907b65e9"
   },
   "source": [
    "Le processus commence par la **catégorisation des données**. Pour prendre en compte les valeurs manquantes (**`NaN`**), une variable binarisée supplémentaire est créée pour chaque colonne à binariser. Par exemple, si **6 variables** doivent être binarisées dans le **dataframe original**, **6 colonnes supplémentaires** seront ajoutées dans la **version binarisée** du dataframe, toutes ces colonnes se terminant par **`_nan`**. Ces colonnes permettent d'**identifier les lignes** du dataframe qui **contiennent des valeurs manquantes** pour une variable catégorielle spécifique du dataframe original. Dans ces colonnes, un **1** marque la présence d'une valeur manquante, **0** sinon."
   ]
  },
  {
   "cell_type": "markdown",
   "id": "ToU18XtiPtA3",
   "metadata": {
    "id": "ToU18XtiPtA3"
   },
   "source": [
    "Pour catégoriser les variables, la fonction **`pandas.get_dummies`** est utilisée avec l'argument **`dummy_na=True`** pour générer les colonnes **`_nan`** et **`dtype=float`** afin d'obtenir un dataframe rempli de **0.0** et **1.0**. Cette configuration assure que les données soient déjà dans le **format supporté** par l'**imputer**.\n"
   ]
  },
  {
   "cell_type": "code",
   "execution_count": 686,
   "id": "ebc724c7-3be7-45bb-9204-9cee3693741a",
   "metadata": {
    "colab": {
     "base_uri": "https://localhost:8080/",
     "height": 461
    },
    "executionInfo": {
     "elapsed": 379,
     "status": "ok",
     "timestamp": 1714403784240,
     "user": {
      "displayName": "Géraud de Langlade",
      "userId": "09292225826687032589"
     },
     "user_tz": -120
    },
    "id": "ebc724c7-3be7-45bb-9204-9cee3693741a",
    "outputId": "a0910703-a8c7-4f27-d158-3499251302f1"
   },
   "outputs": [
    {
     "data": {
      "text/html": [
       "<div>\n",
       "<style scoped>\n",
       "    .dataframe tbody tr th:only-of-type {\n",
       "        vertical-align: middle;\n",
       "    }\n",
       "\n",
       "    .dataframe tbody tr th {\n",
       "        vertical-align: top;\n",
       "    }\n",
       "\n",
       "    .dataframe thead th {\n",
       "        text-align: right;\n",
       "    }\n",
       "</style>\n",
       "<table border=\"1\" class=\"dataframe\">\n",
       "  <thead>\n",
       "    <tr style=\"text-align: right;\">\n",
       "      <th></th>\n",
       "      <th>cap-shape_bell</th>\n",
       "      <th>cap-shape_conical</th>\n",
       "      <th>cap-shape_convex</th>\n",
       "      <th>cap-shape_flat</th>\n",
       "      <th>cap-shape_knobbed</th>\n",
       "      <th>cap-shape_sunken</th>\n",
       "      <th>cap-shape_nan</th>\n",
       "      <th>cap-surface_fibrous</th>\n",
       "      <th>cap-surface_grooves</th>\n",
       "      <th>cap-surface_scaly</th>\n",
       "      <th>...</th>\n",
       "      <th>habitat_leaves</th>\n",
       "      <th>habitat_meadows</th>\n",
       "      <th>habitat_paths</th>\n",
       "      <th>habitat_urban</th>\n",
       "      <th>habitat_waste</th>\n",
       "      <th>habitat_woods</th>\n",
       "      <th>habitat_nan</th>\n",
       "      <th>poisonous_edible</th>\n",
       "      <th>poisonous_poisonous</th>\n",
       "      <th>poisonous_nan</th>\n",
       "    </tr>\n",
       "  </thead>\n",
       "  <tbody>\n",
       "    <tr>\n",
       "      <th>1971</th>\n",
       "      <td>0.0</td>\n",
       "      <td>0.0</td>\n",
       "      <td>0.0</td>\n",
       "      <td>1.0</td>\n",
       "      <td>0.0</td>\n",
       "      <td>0.0</td>\n",
       "      <td>0.0</td>\n",
       "      <td>1.0</td>\n",
       "      <td>0.0</td>\n",
       "      <td>0.0</td>\n",
       "      <td>...</td>\n",
       "      <td>0.0</td>\n",
       "      <td>0.0</td>\n",
       "      <td>0.0</td>\n",
       "      <td>0.0</td>\n",
       "      <td>0.0</td>\n",
       "      <td>0.0</td>\n",
       "      <td>0.0</td>\n",
       "      <td>1.0</td>\n",
       "      <td>0.0</td>\n",
       "      <td>0.0</td>\n",
       "    </tr>\n",
       "    <tr>\n",
       "      <th>6654</th>\n",
       "      <td>0.0</td>\n",
       "      <td>0.0</td>\n",
       "      <td>0.0</td>\n",
       "      <td>1.0</td>\n",
       "      <td>0.0</td>\n",
       "      <td>0.0</td>\n",
       "      <td>0.0</td>\n",
       "      <td>0.0</td>\n",
       "      <td>0.0</td>\n",
       "      <td>0.0</td>\n",
       "      <td>...</td>\n",
       "      <td>1.0</td>\n",
       "      <td>0.0</td>\n",
       "      <td>0.0</td>\n",
       "      <td>0.0</td>\n",
       "      <td>0.0</td>\n",
       "      <td>0.0</td>\n",
       "      <td>0.0</td>\n",
       "      <td>0.0</td>\n",
       "      <td>1.0</td>\n",
       "      <td>0.0</td>\n",
       "    </tr>\n",
       "    <tr>\n",
       "      <th>5606</th>\n",
       "      <td>0.0</td>\n",
       "      <td>0.0</td>\n",
       "      <td>1.0</td>\n",
       "      <td>0.0</td>\n",
       "      <td>0.0</td>\n",
       "      <td>0.0</td>\n",
       "      <td>0.0</td>\n",
       "      <td>0.0</td>\n",
       "      <td>0.0</td>\n",
       "      <td>1.0</td>\n",
       "      <td>...</td>\n",
       "      <td>1.0</td>\n",
       "      <td>0.0</td>\n",
       "      <td>0.0</td>\n",
       "      <td>0.0</td>\n",
       "      <td>0.0</td>\n",
       "      <td>0.0</td>\n",
       "      <td>0.0</td>\n",
       "      <td>0.0</td>\n",
       "      <td>1.0</td>\n",
       "      <td>0.0</td>\n",
       "    </tr>\n",
       "    <tr>\n",
       "      <th>3332</th>\n",
       "      <td>0.0</td>\n",
       "      <td>0.0</td>\n",
       "      <td>0.0</td>\n",
       "      <td>1.0</td>\n",
       "      <td>0.0</td>\n",
       "      <td>0.0</td>\n",
       "      <td>0.0</td>\n",
       "      <td>0.0</td>\n",
       "      <td>0.0</td>\n",
       "      <td>1.0</td>\n",
       "      <td>...</td>\n",
       "      <td>0.0</td>\n",
       "      <td>0.0</td>\n",
       "      <td>0.0</td>\n",
       "      <td>0.0</td>\n",
       "      <td>0.0</td>\n",
       "      <td>1.0</td>\n",
       "      <td>0.0</td>\n",
       "      <td>1.0</td>\n",
       "      <td>0.0</td>\n",
       "      <td>0.0</td>\n",
       "    </tr>\n",
       "    <tr>\n",
       "      <th>6988</th>\n",
       "      <td>0.0</td>\n",
       "      <td>0.0</td>\n",
       "      <td>0.0</td>\n",
       "      <td>1.0</td>\n",
       "      <td>0.0</td>\n",
       "      <td>0.0</td>\n",
       "      <td>0.0</td>\n",
       "      <td>0.0</td>\n",
       "      <td>0.0</td>\n",
       "      <td>0.0</td>\n",
       "      <td>...</td>\n",
       "      <td>1.0</td>\n",
       "      <td>0.0</td>\n",
       "      <td>0.0</td>\n",
       "      <td>0.0</td>\n",
       "      <td>0.0</td>\n",
       "      <td>0.0</td>\n",
       "      <td>0.0</td>\n",
       "      <td>0.0</td>\n",
       "      <td>1.0</td>\n",
       "      <td>0.0</td>\n",
       "    </tr>\n",
       "    <tr>\n",
       "      <th>...</th>\n",
       "      <td>...</td>\n",
       "      <td>...</td>\n",
       "      <td>...</td>\n",
       "      <td>...</td>\n",
       "      <td>...</td>\n",
       "      <td>...</td>\n",
       "      <td>...</td>\n",
       "      <td>...</td>\n",
       "      <td>...</td>\n",
       "      <td>...</td>\n",
       "      <td>...</td>\n",
       "      <td>...</td>\n",
       "      <td>...</td>\n",
       "      <td>...</td>\n",
       "      <td>...</td>\n",
       "      <td>...</td>\n",
       "      <td>...</td>\n",
       "      <td>...</td>\n",
       "      <td>...</td>\n",
       "      <td>...</td>\n",
       "      <td>...</td>\n",
       "    </tr>\n",
       "    <tr>\n",
       "      <th>3226</th>\n",
       "      <td>0.0</td>\n",
       "      <td>0.0</td>\n",
       "      <td>1.0</td>\n",
       "      <td>0.0</td>\n",
       "      <td>0.0</td>\n",
       "      <td>0.0</td>\n",
       "      <td>0.0</td>\n",
       "      <td>1.0</td>\n",
       "      <td>0.0</td>\n",
       "      <td>0.0</td>\n",
       "      <td>...</td>\n",
       "      <td>0.0</td>\n",
       "      <td>0.0</td>\n",
       "      <td>1.0</td>\n",
       "      <td>0.0</td>\n",
       "      <td>0.0</td>\n",
       "      <td>0.0</td>\n",
       "      <td>0.0</td>\n",
       "      <td>0.0</td>\n",
       "      <td>1.0</td>\n",
       "      <td>0.0</td>\n",
       "    </tr>\n",
       "    <tr>\n",
       "      <th>4515</th>\n",
       "      <td>0.0</td>\n",
       "      <td>0.0</td>\n",
       "      <td>0.0</td>\n",
       "      <td>1.0</td>\n",
       "      <td>0.0</td>\n",
       "      <td>0.0</td>\n",
       "      <td>0.0</td>\n",
       "      <td>1.0</td>\n",
       "      <td>0.0</td>\n",
       "      <td>0.0</td>\n",
       "      <td>...</td>\n",
       "      <td>0.0</td>\n",
       "      <td>0.0</td>\n",
       "      <td>0.0</td>\n",
       "      <td>0.0</td>\n",
       "      <td>0.0</td>\n",
       "      <td>1.0</td>\n",
       "      <td>0.0</td>\n",
       "      <td>0.0</td>\n",
       "      <td>1.0</td>\n",
       "      <td>0.0</td>\n",
       "    </tr>\n",
       "    <tr>\n",
       "      <th>7770</th>\n",
       "      <td>0.0</td>\n",
       "      <td>0.0</td>\n",
       "      <td>0.0</td>\n",
       "      <td>0.0</td>\n",
       "      <td>1.0</td>\n",
       "      <td>0.0</td>\n",
       "      <td>0.0</td>\n",
       "      <td>0.0</td>\n",
       "      <td>0.0</td>\n",
       "      <td>1.0</td>\n",
       "      <td>...</td>\n",
       "      <td>0.0</td>\n",
       "      <td>0.0</td>\n",
       "      <td>0.0</td>\n",
       "      <td>0.0</td>\n",
       "      <td>0.0</td>\n",
       "      <td>1.0</td>\n",
       "      <td>0.0</td>\n",
       "      <td>0.0</td>\n",
       "      <td>1.0</td>\n",
       "      <td>0.0</td>\n",
       "    </tr>\n",
       "    <tr>\n",
       "      <th>1626</th>\n",
       "      <td>0.0</td>\n",
       "      <td>0.0</td>\n",
       "      <td>1.0</td>\n",
       "      <td>0.0</td>\n",
       "      <td>0.0</td>\n",
       "      <td>0.0</td>\n",
       "      <td>0.0</td>\n",
       "      <td>1.0</td>\n",
       "      <td>0.0</td>\n",
       "      <td>0.0</td>\n",
       "      <td>...</td>\n",
       "      <td>0.0</td>\n",
       "      <td>0.0</td>\n",
       "      <td>0.0</td>\n",
       "      <td>0.0</td>\n",
       "      <td>0.0</td>\n",
       "      <td>0.0</td>\n",
       "      <td>0.0</td>\n",
       "      <td>1.0</td>\n",
       "      <td>0.0</td>\n",
       "      <td>0.0</td>\n",
       "    </tr>\n",
       "    <tr>\n",
       "      <th>4963</th>\n",
       "      <td>0.0</td>\n",
       "      <td>0.0</td>\n",
       "      <td>0.0</td>\n",
       "      <td>1.0</td>\n",
       "      <td>0.0</td>\n",
       "      <td>0.0</td>\n",
       "      <td>0.0</td>\n",
       "      <td>0.0</td>\n",
       "      <td>0.0</td>\n",
       "      <td>0.0</td>\n",
       "      <td>...</td>\n",
       "      <td>0.0</td>\n",
       "      <td>0.0</td>\n",
       "      <td>0.0</td>\n",
       "      <td>1.0</td>\n",
       "      <td>0.0</td>\n",
       "      <td>0.0</td>\n",
       "      <td>0.0</td>\n",
       "      <td>0.0</td>\n",
       "      <td>1.0</td>\n",
       "      <td>0.0</td>\n",
       "    </tr>\n",
       "  </tbody>\n",
       "</table>\n",
       "<p>4062 rows × 139 columns</p>\n",
       "</div>"
      ],
      "text/plain": [
       "      cap-shape_bell  cap-shape_conical  cap-shape_convex  cap-shape_flat  \\\n",
       "1971             0.0                0.0               0.0             1.0   \n",
       "6654             0.0                0.0               0.0             1.0   \n",
       "5606             0.0                0.0               1.0             0.0   \n",
       "3332             0.0                0.0               0.0             1.0   \n",
       "6988             0.0                0.0               0.0             1.0   \n",
       "...              ...                ...               ...             ...   \n",
       "3226             0.0                0.0               1.0             0.0   \n",
       "4515             0.0                0.0               0.0             1.0   \n",
       "7770             0.0                0.0               0.0             0.0   \n",
       "1626             0.0                0.0               1.0             0.0   \n",
       "4963             0.0                0.0               0.0             1.0   \n",
       "\n",
       "      cap-shape_knobbed  cap-shape_sunken  cap-shape_nan  cap-surface_fibrous  \\\n",
       "1971                0.0               0.0            0.0                  1.0   \n",
       "6654                0.0               0.0            0.0                  0.0   \n",
       "5606                0.0               0.0            0.0                  0.0   \n",
       "3332                0.0               0.0            0.0                  0.0   \n",
       "6988                0.0               0.0            0.0                  0.0   \n",
       "...                 ...               ...            ...                  ...   \n",
       "3226                0.0               0.0            0.0                  1.0   \n",
       "4515                0.0               0.0            0.0                  1.0   \n",
       "7770                1.0               0.0            0.0                  0.0   \n",
       "1626                0.0               0.0            0.0                  1.0   \n",
       "4963                0.0               0.0            0.0                  0.0   \n",
       "\n",
       "      cap-surface_grooves  cap-surface_scaly  ...  habitat_leaves  \\\n",
       "1971                  0.0                0.0  ...             0.0   \n",
       "6654                  0.0                0.0  ...             1.0   \n",
       "5606                  0.0                1.0  ...             1.0   \n",
       "3332                  0.0                1.0  ...             0.0   \n",
       "6988                  0.0                0.0  ...             1.0   \n",
       "...                   ...                ...  ...             ...   \n",
       "3226                  0.0                0.0  ...             0.0   \n",
       "4515                  0.0                0.0  ...             0.0   \n",
       "7770                  0.0                1.0  ...             0.0   \n",
       "1626                  0.0                0.0  ...             0.0   \n",
       "4963                  0.0                0.0  ...             0.0   \n",
       "\n",
       "      habitat_meadows  habitat_paths  habitat_urban  habitat_waste  \\\n",
       "1971              0.0            0.0            0.0            0.0   \n",
       "6654              0.0            0.0            0.0            0.0   \n",
       "5606              0.0            0.0            0.0            0.0   \n",
       "3332              0.0            0.0            0.0            0.0   \n",
       "6988              0.0            0.0            0.0            0.0   \n",
       "...               ...            ...            ...            ...   \n",
       "3226              0.0            1.0            0.0            0.0   \n",
       "4515              0.0            0.0            0.0            0.0   \n",
       "7770              0.0            0.0            0.0            0.0   \n",
       "1626              0.0            0.0            0.0            0.0   \n",
       "4963              0.0            0.0            1.0            0.0   \n",
       "\n",
       "      habitat_woods  habitat_nan  poisonous_edible  poisonous_poisonous  \\\n",
       "1971            0.0          0.0               1.0                  0.0   \n",
       "6654            0.0          0.0               0.0                  1.0   \n",
       "5606            0.0          0.0               0.0                  1.0   \n",
       "3332            1.0          0.0               1.0                  0.0   \n",
       "6988            0.0          0.0               0.0                  1.0   \n",
       "...             ...          ...               ...                  ...   \n",
       "3226            0.0          0.0               0.0                  1.0   \n",
       "4515            1.0          0.0               0.0                  1.0   \n",
       "7770            1.0          0.0               0.0                  1.0   \n",
       "1626            0.0          0.0               1.0                  0.0   \n",
       "4963            0.0          0.0               0.0                  1.0   \n",
       "\n",
       "      poisonous_nan  \n",
       "1971            0.0  \n",
       "6654            0.0  \n",
       "5606            0.0  \n",
       "3332            0.0  \n",
       "6988            0.0  \n",
       "...             ...  \n",
       "3226            0.0  \n",
       "4515            0.0  \n",
       "7770            0.0  \n",
       "1626            0.0  \n",
       "4963            0.0  \n",
       "\n",
       "[4062 rows x 139 columns]"
      ]
     },
     "execution_count": 686,
     "metadata": {},
     "output_type": "execute_result"
    }
   ],
   "source": [
    "df_one_hot = pd.get_dummies(df_main, dummy_na=True, dtype= float)\n",
    "df_one_hot"
   ]
  },
  {
   "cell_type": "markdown",
   "id": "2375a556-d214-4038-9147-69920261f838",
   "metadata": {
    "id": "2375a556-d214-4038-9147-69920261f838"
   },
   "source": [
    "Toutes les colonnes **`'_nan'`** qui ne sont pas liées à la colonne du dataframe original contenant des valeurs manquantes (**`stalk-root`**) sont **supprimées**. Ces colonnes sont **inutiles pour la méthode d'impution qui va être utilisée** car elles sont associées à des colonnes du dataframe original **sans valeurs manquantes**, et sont donc **remplies uniquement de 0**.\n"
   ]
  },
  {
   "cell_type": "code",
   "execution_count": 687,
   "id": "be81d2d8-0df1-4d16-86d9-548fec1f9d1e",
   "metadata": {
    "executionInfo": {
     "elapsed": 5,
     "status": "ok",
     "timestamp": 1714403784240,
     "user": {
      "displayName": "Géraud de Langlade",
      "userId": "09292225826687032589"
     },
     "user_tz": -120
    },
    "id": "be81d2d8-0df1-4d16-86d9-548fec1f9d1e"
   },
   "outputs": [],
   "source": [
    "for col in [col_name for col_name in df_one_hot.columns if not col_name.startswith('stalk-root')]:\n",
    "    if 'nan' in col:\n",
    "        df_one_hot.drop(col, axis=1, inplace=True)"
   ]
  },
  {
   "cell_type": "markdown",
   "id": "301f525c-0fba-4e0e-84c5-2febd5208a89",
   "metadata": {
    "id": "301f525c-0fba-4e0e-84c5-2febd5208a89"
   },
   "source": [
    "Il est maintenant possible de transformer les **4 sous-variables créées** lors de la binarisation en inputant des **`NaN`** aux lignes où la colonne **`stalk-root_nan`** est égale à **1** (**indiquant la présence de valeurs manquantes**). Pour cela, on sélectionne toutes les colonnes binarisées commençant par **`stalk-root`** et qui ne finissent pas par **`'_nan'`**; il y en a **4 qui satisfont ces critères**. Ensuite, il suffit d'inputer les **NaNs** dans ces colonnes. Pour finir, on supprime la colonne **`'_nan'`** de la covariable **`stalk-root`** car elle n'est plus nécessaire.\n"
   ]
  },
  {
   "cell_type": "code",
   "execution_count": 688,
   "id": "ef4a6cf3-5cb2-4a3d-824b-7c679717e85c",
   "metadata": {
    "executionInfo": {
     "elapsed": 5,
     "status": "ok",
     "timestamp": 1714403784240,
     "user": {
      "displayName": "Géraud de Langlade",
      "userId": "09292225826687032589"
     },
     "user_tz": -120
    },
    "id": "ef4a6cf3-5cb2-4a3d-824b-7c679717e85c"
   },
   "outputs": [],
   "source": [
    "columns_to_modify = [col for col in df_one_hot.columns if col.startswith('stalk-root') and 'nan' not in col]\n",
    "\n",
    "for col in columns_to_modify:\n",
    "    df_one_hot.loc[df_one_hot['stalk-root_nan'] == 1, col] = np.nan\n",
    "\n",
    "df_one_hot.drop('stalk-root_nan', axis=1, inplace=True)"
   ]
  },
  {
   "cell_type": "markdown",
   "id": "d3b39b59-ea98-4d3c-bc70-e67b69d917a8",
   "metadata": {
    "id": "d3b39b59-ea98-4d3c-bc70-e67b69d917a8"
   },
   "source": [
    "Plusieurs modèles sont appropriés pour l'imputation de données. Le **`KNN`** est utilisé ici car c'est une des **méthodes les plus simples et efficaces** pour l'imputation de données, et elle fonctionne particulièrement bien pour les **données catégorielles** (transformées en données binaires). Il est également important de noter que cette méthode est **particulièrement adaptée lorsque seulement une covariable du dataset contient des valeurs manquantes**. En effet, si plusieurs covariables du dataset présentent des valeurs manquantes, le **`KNNImputer`** gère d'une manière spécifique qui ne corresponds pas forcément à certaines approches (il pondère la distance euclidienne à un individu en fonction du nombre de valeurs manquantes sur l'ensemble des caractéristiques de l'individu).\n"
   ]
  },
  {
   "cell_type": "code",
   "execution_count": 689,
   "id": "21ab5503-274d-45b9-86d9-04524805d7b2",
   "metadata": {
    "executionInfo": {
     "elapsed": 2081,
     "status": "ok",
     "timestamp": 1714403786317,
     "user": {
      "displayName": "Géraud de Langlade",
      "userId": "09292225826687032589"
     },
     "user_tz": -120
    },
    "id": "21ab5503-274d-45b9-86d9-04524805d7b2"
   },
   "outputs": [],
   "source": [
    "from sklearn.impute import KNNImputer\n",
    "\n",
    "imputer = KNNImputer(n_neighbors=5)\n",
    "df_imputed = pd.DataFrame(imputer.fit_transform(df_one_hot), columns=df_one_hot.columns)"
   ]
  },
  {
   "cell_type": "markdown",
   "id": "668cc4e9-6d25-40b5-b7a2-cee34c2f1293",
   "metadata": {
    "id": "668cc4e9-6d25-40b5-b7a2-cee34c2f1293"
   },
   "source": [
    "L'imputer a rempli les valeurs manquantes dans les **4 colonnes binarisées** avec des valeurs situées entre 0 et 1. Étant donné qu'il s'agit de colonnes binaires, il est nécessaire que les valeurs de ces colonnes soient soit **1** soit **0**, et que la somme sur chaque ligne de ces 4 colonnes soit égale à **1** (une observation ne peut être associée qu'à une seule catégorie).\n"
   ]
  },
  {
   "cell_type": "markdown",
   "id": "bca9168e-dba3-4575-9a84-42e85c43f69d",
   "metadata": {
    "id": "bca9168e-dba3-4575-9a84-42e85c43f69d"
   },
   "source": [
    "Il a donc été décidé de fixer deux seuils pour l'imputation des valeurs : l'un en dessous duquel la valeur sera inputée comme **0** (les valeurs en dessous de **0.2**) et l'autre au-dessus duquel la valeur sera considérée comme **1** (valeurs au-dessus de **0.8**). En pratique, il s'agirait d'hyperparamètres à optimiser via une validation croisée. Cependant, étant donné que cette covariable est une parmi 22 autres, l'impact de l'optimisation de ces hyperparamètres sur les résultats finaux du modèle est limité. Ainsi, la décision de choisir ces seuils a été guidée par le bon sens."
   ]
  },
  {
   "cell_type": "code",
   "execution_count": 690,
   "id": "78a5e56a-2b35-4957-959d-1802f7dc11f7",
   "metadata": {
    "executionInfo": {
     "elapsed": 270,
     "status": "ok",
     "timestamp": 1714403786583,
     "user": {
      "displayName": "Géraud de Langlade",
      "userId": "09292225826687032589"
     },
     "user_tz": -120
    },
    "id": "78a5e56a-2b35-4957-959d-1802f7dc11f7"
   },
   "outputs": [],
   "source": [
    "for col in columns_to_modify:\n",
    "    df_imputed.loc[df_imputed[col] >= 0.8, col] = 1.0\n",
    "    df_imputed.loc[df_imputed[col] <= 0.2, col] = 0.0\n",
    "    df_imputed.loc[df_imputed[col].apply(lambda x: 0.2 < x < 0.8), col] = -1"
   ]
  },
  {
   "cell_type": "markdown",
   "id": "3eac3218-cc13-4d45-8762-9f1ad494864a",
   "metadata": {
    "id": "3eac3218-cc13-4d45-8762-9f1ad494864a"
   },
   "source": [
    "Tous les individus présentant toujours des **`NaN`** après le processus d'imputation sont supprimés. Cela concerne les lignes du dataframe qui contiennent au moins un **-1** (valeurs d'imputation situées dans l'intervalle **]0.2, 0.8[**).\n"
   ]
  },
  {
   "cell_type": "code",
   "execution_count": 691,
   "id": "94f3b46e-9bae-465c-aedf-4adc343476ab",
   "metadata": {
    "colab": {
     "base_uri": "https://localhost:8080/",
     "height": 461
    },
    "executionInfo": {
     "elapsed": 269,
     "status": "ok",
     "timestamp": 1714403786583,
     "user": {
      "displayName": "Géraud de Langlade",
      "userId": "09292225826687032589"
     },
     "user_tz": -120
    },
    "id": "94f3b46e-9bae-465c-aedf-4adc343476ab",
    "outputId": "0a0a0499-121b-4318-9608-339ac2d4c984"
   },
   "outputs": [
    {
     "data": {
      "text/html": [
       "<div>\n",
       "<style scoped>\n",
       "    .dataframe tbody tr th:only-of-type {\n",
       "        vertical-align: middle;\n",
       "    }\n",
       "\n",
       "    .dataframe tbody tr th {\n",
       "        vertical-align: top;\n",
       "    }\n",
       "\n",
       "    .dataframe thead th {\n",
       "        text-align: right;\n",
       "    }\n",
       "</style>\n",
       "<table border=\"1\" class=\"dataframe\">\n",
       "  <thead>\n",
       "    <tr style=\"text-align: right;\">\n",
       "      <th></th>\n",
       "      <th>cap-shape_bell</th>\n",
       "      <th>cap-shape_conical</th>\n",
       "      <th>cap-shape_convex</th>\n",
       "      <th>cap-shape_flat</th>\n",
       "      <th>cap-shape_knobbed</th>\n",
       "      <th>cap-shape_sunken</th>\n",
       "      <th>cap-surface_fibrous</th>\n",
       "      <th>cap-surface_grooves</th>\n",
       "      <th>cap-surface_scaly</th>\n",
       "      <th>cap-surface_smooth</th>\n",
       "      <th>...</th>\n",
       "      <th>population_solitary</th>\n",
       "      <th>habitat_grasses</th>\n",
       "      <th>habitat_leaves</th>\n",
       "      <th>habitat_meadows</th>\n",
       "      <th>habitat_paths</th>\n",
       "      <th>habitat_urban</th>\n",
       "      <th>habitat_waste</th>\n",
       "      <th>habitat_woods</th>\n",
       "      <th>poisonous_edible</th>\n",
       "      <th>poisonous_poisonous</th>\n",
       "    </tr>\n",
       "  </thead>\n",
       "  <tbody>\n",
       "    <tr>\n",
       "      <th>0</th>\n",
       "      <td>0.0</td>\n",
       "      <td>0.0</td>\n",
       "      <td>0.0</td>\n",
       "      <td>1.0</td>\n",
       "      <td>0.0</td>\n",
       "      <td>0.0</td>\n",
       "      <td>1.0</td>\n",
       "      <td>0.0</td>\n",
       "      <td>0.0</td>\n",
       "      <td>0.0</td>\n",
       "      <td>...</td>\n",
       "      <td>0.0</td>\n",
       "      <td>1.0</td>\n",
       "      <td>0.0</td>\n",
       "      <td>0.0</td>\n",
       "      <td>0.0</td>\n",
       "      <td>0.0</td>\n",
       "      <td>0.0</td>\n",
       "      <td>0.0</td>\n",
       "      <td>1.0</td>\n",
       "      <td>0.0</td>\n",
       "    </tr>\n",
       "    <tr>\n",
       "      <th>1</th>\n",
       "      <td>0.0</td>\n",
       "      <td>0.0</td>\n",
       "      <td>0.0</td>\n",
       "      <td>1.0</td>\n",
       "      <td>0.0</td>\n",
       "      <td>0.0</td>\n",
       "      <td>0.0</td>\n",
       "      <td>0.0</td>\n",
       "      <td>0.0</td>\n",
       "      <td>1.0</td>\n",
       "      <td>...</td>\n",
       "      <td>0.0</td>\n",
       "      <td>0.0</td>\n",
       "      <td>1.0</td>\n",
       "      <td>0.0</td>\n",
       "      <td>0.0</td>\n",
       "      <td>0.0</td>\n",
       "      <td>0.0</td>\n",
       "      <td>0.0</td>\n",
       "      <td>0.0</td>\n",
       "      <td>1.0</td>\n",
       "    </tr>\n",
       "    <tr>\n",
       "      <th>2</th>\n",
       "      <td>0.0</td>\n",
       "      <td>0.0</td>\n",
       "      <td>1.0</td>\n",
       "      <td>0.0</td>\n",
       "      <td>0.0</td>\n",
       "      <td>0.0</td>\n",
       "      <td>0.0</td>\n",
       "      <td>0.0</td>\n",
       "      <td>1.0</td>\n",
       "      <td>0.0</td>\n",
       "      <td>...</td>\n",
       "      <td>0.0</td>\n",
       "      <td>0.0</td>\n",
       "      <td>1.0</td>\n",
       "      <td>0.0</td>\n",
       "      <td>0.0</td>\n",
       "      <td>0.0</td>\n",
       "      <td>0.0</td>\n",
       "      <td>0.0</td>\n",
       "      <td>0.0</td>\n",
       "      <td>1.0</td>\n",
       "    </tr>\n",
       "    <tr>\n",
       "      <th>3</th>\n",
       "      <td>0.0</td>\n",
       "      <td>0.0</td>\n",
       "      <td>0.0</td>\n",
       "      <td>1.0</td>\n",
       "      <td>0.0</td>\n",
       "      <td>0.0</td>\n",
       "      <td>0.0</td>\n",
       "      <td>0.0</td>\n",
       "      <td>1.0</td>\n",
       "      <td>0.0</td>\n",
       "      <td>...</td>\n",
       "      <td>1.0</td>\n",
       "      <td>0.0</td>\n",
       "      <td>0.0</td>\n",
       "      <td>0.0</td>\n",
       "      <td>0.0</td>\n",
       "      <td>0.0</td>\n",
       "      <td>0.0</td>\n",
       "      <td>1.0</td>\n",
       "      <td>1.0</td>\n",
       "      <td>0.0</td>\n",
       "    </tr>\n",
       "    <tr>\n",
       "      <th>4</th>\n",
       "      <td>0.0</td>\n",
       "      <td>0.0</td>\n",
       "      <td>0.0</td>\n",
       "      <td>1.0</td>\n",
       "      <td>0.0</td>\n",
       "      <td>0.0</td>\n",
       "      <td>0.0</td>\n",
       "      <td>0.0</td>\n",
       "      <td>0.0</td>\n",
       "      <td>1.0</td>\n",
       "      <td>...</td>\n",
       "      <td>0.0</td>\n",
       "      <td>0.0</td>\n",
       "      <td>1.0</td>\n",
       "      <td>0.0</td>\n",
       "      <td>0.0</td>\n",
       "      <td>0.0</td>\n",
       "      <td>0.0</td>\n",
       "      <td>0.0</td>\n",
       "      <td>0.0</td>\n",
       "      <td>1.0</td>\n",
       "    </tr>\n",
       "    <tr>\n",
       "      <th>...</th>\n",
       "      <td>...</td>\n",
       "      <td>...</td>\n",
       "      <td>...</td>\n",
       "      <td>...</td>\n",
       "      <td>...</td>\n",
       "      <td>...</td>\n",
       "      <td>...</td>\n",
       "      <td>...</td>\n",
       "      <td>...</td>\n",
       "      <td>...</td>\n",
       "      <td>...</td>\n",
       "      <td>...</td>\n",
       "      <td>...</td>\n",
       "      <td>...</td>\n",
       "      <td>...</td>\n",
       "      <td>...</td>\n",
       "      <td>...</td>\n",
       "      <td>...</td>\n",
       "      <td>...</td>\n",
       "      <td>...</td>\n",
       "      <td>...</td>\n",
       "    </tr>\n",
       "    <tr>\n",
       "      <th>4056</th>\n",
       "      <td>0.0</td>\n",
       "      <td>0.0</td>\n",
       "      <td>1.0</td>\n",
       "      <td>0.0</td>\n",
       "      <td>0.0</td>\n",
       "      <td>0.0</td>\n",
       "      <td>0.0</td>\n",
       "      <td>0.0</td>\n",
       "      <td>0.0</td>\n",
       "      <td>1.0</td>\n",
       "      <td>...</td>\n",
       "      <td>0.0</td>\n",
       "      <td>1.0</td>\n",
       "      <td>0.0</td>\n",
       "      <td>0.0</td>\n",
       "      <td>0.0</td>\n",
       "      <td>0.0</td>\n",
       "      <td>0.0</td>\n",
       "      <td>0.0</td>\n",
       "      <td>0.0</td>\n",
       "      <td>1.0</td>\n",
       "    </tr>\n",
       "    <tr>\n",
       "      <th>4057</th>\n",
       "      <td>0.0</td>\n",
       "      <td>0.0</td>\n",
       "      <td>1.0</td>\n",
       "      <td>0.0</td>\n",
       "      <td>0.0</td>\n",
       "      <td>0.0</td>\n",
       "      <td>1.0</td>\n",
       "      <td>0.0</td>\n",
       "      <td>0.0</td>\n",
       "      <td>0.0</td>\n",
       "      <td>...</td>\n",
       "      <td>1.0</td>\n",
       "      <td>0.0</td>\n",
       "      <td>0.0</td>\n",
       "      <td>0.0</td>\n",
       "      <td>1.0</td>\n",
       "      <td>0.0</td>\n",
       "      <td>0.0</td>\n",
       "      <td>0.0</td>\n",
       "      <td>0.0</td>\n",
       "      <td>1.0</td>\n",
       "    </tr>\n",
       "    <tr>\n",
       "      <th>4058</th>\n",
       "      <td>0.0</td>\n",
       "      <td>0.0</td>\n",
       "      <td>0.0</td>\n",
       "      <td>1.0</td>\n",
       "      <td>0.0</td>\n",
       "      <td>0.0</td>\n",
       "      <td>1.0</td>\n",
       "      <td>0.0</td>\n",
       "      <td>0.0</td>\n",
       "      <td>0.0</td>\n",
       "      <td>...</td>\n",
       "      <td>0.0</td>\n",
       "      <td>0.0</td>\n",
       "      <td>0.0</td>\n",
       "      <td>0.0</td>\n",
       "      <td>0.0</td>\n",
       "      <td>0.0</td>\n",
       "      <td>0.0</td>\n",
       "      <td>1.0</td>\n",
       "      <td>0.0</td>\n",
       "      <td>1.0</td>\n",
       "    </tr>\n",
       "    <tr>\n",
       "      <th>4060</th>\n",
       "      <td>0.0</td>\n",
       "      <td>0.0</td>\n",
       "      <td>1.0</td>\n",
       "      <td>0.0</td>\n",
       "      <td>0.0</td>\n",
       "      <td>0.0</td>\n",
       "      <td>1.0</td>\n",
       "      <td>0.0</td>\n",
       "      <td>0.0</td>\n",
       "      <td>0.0</td>\n",
       "      <td>...</td>\n",
       "      <td>0.0</td>\n",
       "      <td>1.0</td>\n",
       "      <td>0.0</td>\n",
       "      <td>0.0</td>\n",
       "      <td>0.0</td>\n",
       "      <td>0.0</td>\n",
       "      <td>0.0</td>\n",
       "      <td>0.0</td>\n",
       "      <td>1.0</td>\n",
       "      <td>0.0</td>\n",
       "    </tr>\n",
       "    <tr>\n",
       "      <th>4061</th>\n",
       "      <td>0.0</td>\n",
       "      <td>0.0</td>\n",
       "      <td>0.0</td>\n",
       "      <td>1.0</td>\n",
       "      <td>0.0</td>\n",
       "      <td>0.0</td>\n",
       "      <td>0.0</td>\n",
       "      <td>0.0</td>\n",
       "      <td>0.0</td>\n",
       "      <td>1.0</td>\n",
       "      <td>...</td>\n",
       "      <td>0.0</td>\n",
       "      <td>0.0</td>\n",
       "      <td>0.0</td>\n",
       "      <td>0.0</td>\n",
       "      <td>0.0</td>\n",
       "      <td>1.0</td>\n",
       "      <td>0.0</td>\n",
       "      <td>0.0</td>\n",
       "      <td>0.0</td>\n",
       "      <td>1.0</td>\n",
       "    </tr>\n",
       "  </tbody>\n",
       "</table>\n",
       "<p>3910 rows × 117 columns</p>\n",
       "</div>"
      ],
      "text/plain": [
       "      cap-shape_bell  cap-shape_conical  cap-shape_convex  cap-shape_flat  \\\n",
       "0                0.0                0.0               0.0             1.0   \n",
       "1                0.0                0.0               0.0             1.0   \n",
       "2                0.0                0.0               1.0             0.0   \n",
       "3                0.0                0.0               0.0             1.0   \n",
       "4                0.0                0.0               0.0             1.0   \n",
       "...              ...                ...               ...             ...   \n",
       "4056             0.0                0.0               1.0             0.0   \n",
       "4057             0.0                0.0               1.0             0.0   \n",
       "4058             0.0                0.0               0.0             1.0   \n",
       "4060             0.0                0.0               1.0             0.0   \n",
       "4061             0.0                0.0               0.0             1.0   \n",
       "\n",
       "      cap-shape_knobbed  cap-shape_sunken  cap-surface_fibrous  \\\n",
       "0                   0.0               0.0                  1.0   \n",
       "1                   0.0               0.0                  0.0   \n",
       "2                   0.0               0.0                  0.0   \n",
       "3                   0.0               0.0                  0.0   \n",
       "4                   0.0               0.0                  0.0   \n",
       "...                 ...               ...                  ...   \n",
       "4056                0.0               0.0                  0.0   \n",
       "4057                0.0               0.0                  1.0   \n",
       "4058                0.0               0.0                  1.0   \n",
       "4060                0.0               0.0                  1.0   \n",
       "4061                0.0               0.0                  0.0   \n",
       "\n",
       "      cap-surface_grooves  cap-surface_scaly  cap-surface_smooth  ...  \\\n",
       "0                     0.0                0.0                 0.0  ...   \n",
       "1                     0.0                0.0                 1.0  ...   \n",
       "2                     0.0                1.0                 0.0  ...   \n",
       "3                     0.0                1.0                 0.0  ...   \n",
       "4                     0.0                0.0                 1.0  ...   \n",
       "...                   ...                ...                 ...  ...   \n",
       "4056                  0.0                0.0                 1.0  ...   \n",
       "4057                  0.0                0.0                 0.0  ...   \n",
       "4058                  0.0                0.0                 0.0  ...   \n",
       "4060                  0.0                0.0                 0.0  ...   \n",
       "4061                  0.0                0.0                 1.0  ...   \n",
       "\n",
       "      population_solitary  habitat_grasses  habitat_leaves  habitat_meadows  \\\n",
       "0                     0.0              1.0             0.0              0.0   \n",
       "1                     0.0              0.0             1.0              0.0   \n",
       "2                     0.0              0.0             1.0              0.0   \n",
       "3                     1.0              0.0             0.0              0.0   \n",
       "4                     0.0              0.0             1.0              0.0   \n",
       "...                   ...              ...             ...              ...   \n",
       "4056                  0.0              1.0             0.0              0.0   \n",
       "4057                  1.0              0.0             0.0              0.0   \n",
       "4058                  0.0              0.0             0.0              0.0   \n",
       "4060                  0.0              1.0             0.0              0.0   \n",
       "4061                  0.0              0.0             0.0              0.0   \n",
       "\n",
       "      habitat_paths  habitat_urban  habitat_waste  habitat_woods  \\\n",
       "0               0.0            0.0            0.0            0.0   \n",
       "1               0.0            0.0            0.0            0.0   \n",
       "2               0.0            0.0            0.0            0.0   \n",
       "3               0.0            0.0            0.0            1.0   \n",
       "4               0.0            0.0            0.0            0.0   \n",
       "...             ...            ...            ...            ...   \n",
       "4056            0.0            0.0            0.0            0.0   \n",
       "4057            1.0            0.0            0.0            0.0   \n",
       "4058            0.0            0.0            0.0            1.0   \n",
       "4060            0.0            0.0            0.0            0.0   \n",
       "4061            0.0            1.0            0.0            0.0   \n",
       "\n",
       "      poisonous_edible  poisonous_poisonous  \n",
       "0                  1.0                  0.0  \n",
       "1                  0.0                  1.0  \n",
       "2                  0.0                  1.0  \n",
       "3                  1.0                  0.0  \n",
       "4                  0.0                  1.0  \n",
       "...                ...                  ...  \n",
       "4056               0.0                  1.0  \n",
       "4057               0.0                  1.0  \n",
       "4058               0.0                  1.0  \n",
       "4060               1.0                  0.0  \n",
       "4061               0.0                  1.0  \n",
       "\n",
       "[3910 rows x 117 columns]"
      ]
     },
     "execution_count": 691,
     "metadata": {},
     "output_type": "execute_result"
    }
   ],
   "source": [
    "df_imputed = df_imputed[~(df_imputed == -1).any(axis=1)]\n",
    "df_imputed"
   ]
  },
  {
   "cell_type": "markdown",
   "id": "86b26a87-a50f-4670-bdf7-6229f79edd9e",
   "metadata": {
    "id": "86b26a87-a50f-4670-bdf7-6229f79edd9e"
   },
   "source": [
    "Un **remappage des données** est ensuite réalisé afin d'**obtenir le dataframe original** sans aucune donnée manquante."
   ]
  },
  {
   "cell_type": "code",
   "execution_count": 692,
   "id": "8cb426fb-8ef2-4053-98a6-db108c8bafc0",
   "metadata": {
    "colab": {
     "base_uri": "https://localhost:8080/",
     "height": 461
    },
    "executionInfo": {
     "elapsed": 5,
     "status": "ok",
     "timestamp": 1714403786583,
     "user": {
      "displayName": "Géraud de Langlade",
      "userId": "09292225826687032589"
     },
     "user_tz": -120
    },
    "id": "8cb426fb-8ef2-4053-98a6-db108c8bafc0",
    "outputId": "2fa77579-27c5-475a-c448-70e2f429e800"
   },
   "outputs": [
    {
     "data": {
      "text/html": [
       "<div>\n",
       "<style scoped>\n",
       "    .dataframe tbody tr th:only-of-type {\n",
       "        vertical-align: middle;\n",
       "    }\n",
       "\n",
       "    .dataframe tbody tr th {\n",
       "        vertical-align: top;\n",
       "    }\n",
       "\n",
       "    .dataframe thead th {\n",
       "        text-align: right;\n",
       "    }\n",
       "</style>\n",
       "<table border=\"1\" class=\"dataframe\">\n",
       "  <thead>\n",
       "    <tr style=\"text-align: right;\">\n",
       "      <th></th>\n",
       "      <th>cap-shape_bell</th>\n",
       "      <th>cap-shape_conical</th>\n",
       "      <th>cap-shape_convex</th>\n",
       "      <th>cap-shape_flat</th>\n",
       "      <th>cap-shape_knobbed</th>\n",
       "      <th>cap-shape_sunken</th>\n",
       "      <th>cap-surface_fibrous</th>\n",
       "      <th>cap-surface_grooves</th>\n",
       "      <th>cap-surface_scaly</th>\n",
       "      <th>cap-surface_smooth</th>\n",
       "      <th>...</th>\n",
       "      <th>population_solitary</th>\n",
       "      <th>habitat_grasses</th>\n",
       "      <th>habitat_leaves</th>\n",
       "      <th>habitat_meadows</th>\n",
       "      <th>habitat_paths</th>\n",
       "      <th>habitat_urban</th>\n",
       "      <th>habitat_waste</th>\n",
       "      <th>habitat_woods</th>\n",
       "      <th>poisonous_edible</th>\n",
       "      <th>poisonous_poisonous</th>\n",
       "    </tr>\n",
       "  </thead>\n",
       "  <tbody>\n",
       "    <tr>\n",
       "      <th>0</th>\n",
       "      <td>0.0</td>\n",
       "      <td>0.0</td>\n",
       "      <td>0.0</td>\n",
       "      <td>1.0</td>\n",
       "      <td>0.0</td>\n",
       "      <td>0.0</td>\n",
       "      <td>1.0</td>\n",
       "      <td>0.0</td>\n",
       "      <td>0.0</td>\n",
       "      <td>0.0</td>\n",
       "      <td>...</td>\n",
       "      <td>0.0</td>\n",
       "      <td>1.0</td>\n",
       "      <td>0.0</td>\n",
       "      <td>0.0</td>\n",
       "      <td>0.0</td>\n",
       "      <td>0.0</td>\n",
       "      <td>0.0</td>\n",
       "      <td>0.0</td>\n",
       "      <td>1.0</td>\n",
       "      <td>0.0</td>\n",
       "    </tr>\n",
       "    <tr>\n",
       "      <th>1</th>\n",
       "      <td>0.0</td>\n",
       "      <td>0.0</td>\n",
       "      <td>0.0</td>\n",
       "      <td>1.0</td>\n",
       "      <td>0.0</td>\n",
       "      <td>0.0</td>\n",
       "      <td>0.0</td>\n",
       "      <td>0.0</td>\n",
       "      <td>0.0</td>\n",
       "      <td>1.0</td>\n",
       "      <td>...</td>\n",
       "      <td>0.0</td>\n",
       "      <td>0.0</td>\n",
       "      <td>1.0</td>\n",
       "      <td>0.0</td>\n",
       "      <td>0.0</td>\n",
       "      <td>0.0</td>\n",
       "      <td>0.0</td>\n",
       "      <td>0.0</td>\n",
       "      <td>0.0</td>\n",
       "      <td>1.0</td>\n",
       "    </tr>\n",
       "    <tr>\n",
       "      <th>2</th>\n",
       "      <td>0.0</td>\n",
       "      <td>0.0</td>\n",
       "      <td>1.0</td>\n",
       "      <td>0.0</td>\n",
       "      <td>0.0</td>\n",
       "      <td>0.0</td>\n",
       "      <td>0.0</td>\n",
       "      <td>0.0</td>\n",
       "      <td>1.0</td>\n",
       "      <td>0.0</td>\n",
       "      <td>...</td>\n",
       "      <td>0.0</td>\n",
       "      <td>0.0</td>\n",
       "      <td>1.0</td>\n",
       "      <td>0.0</td>\n",
       "      <td>0.0</td>\n",
       "      <td>0.0</td>\n",
       "      <td>0.0</td>\n",
       "      <td>0.0</td>\n",
       "      <td>0.0</td>\n",
       "      <td>1.0</td>\n",
       "    </tr>\n",
       "    <tr>\n",
       "      <th>3</th>\n",
       "      <td>0.0</td>\n",
       "      <td>0.0</td>\n",
       "      <td>0.0</td>\n",
       "      <td>1.0</td>\n",
       "      <td>0.0</td>\n",
       "      <td>0.0</td>\n",
       "      <td>0.0</td>\n",
       "      <td>0.0</td>\n",
       "      <td>1.0</td>\n",
       "      <td>0.0</td>\n",
       "      <td>...</td>\n",
       "      <td>1.0</td>\n",
       "      <td>0.0</td>\n",
       "      <td>0.0</td>\n",
       "      <td>0.0</td>\n",
       "      <td>0.0</td>\n",
       "      <td>0.0</td>\n",
       "      <td>0.0</td>\n",
       "      <td>1.0</td>\n",
       "      <td>1.0</td>\n",
       "      <td>0.0</td>\n",
       "    </tr>\n",
       "    <tr>\n",
       "      <th>4</th>\n",
       "      <td>0.0</td>\n",
       "      <td>0.0</td>\n",
       "      <td>0.0</td>\n",
       "      <td>1.0</td>\n",
       "      <td>0.0</td>\n",
       "      <td>0.0</td>\n",
       "      <td>0.0</td>\n",
       "      <td>0.0</td>\n",
       "      <td>0.0</td>\n",
       "      <td>1.0</td>\n",
       "      <td>...</td>\n",
       "      <td>0.0</td>\n",
       "      <td>0.0</td>\n",
       "      <td>1.0</td>\n",
       "      <td>0.0</td>\n",
       "      <td>0.0</td>\n",
       "      <td>0.0</td>\n",
       "      <td>0.0</td>\n",
       "      <td>0.0</td>\n",
       "      <td>0.0</td>\n",
       "      <td>1.0</td>\n",
       "    </tr>\n",
       "    <tr>\n",
       "      <th>...</th>\n",
       "      <td>...</td>\n",
       "      <td>...</td>\n",
       "      <td>...</td>\n",
       "      <td>...</td>\n",
       "      <td>...</td>\n",
       "      <td>...</td>\n",
       "      <td>...</td>\n",
       "      <td>...</td>\n",
       "      <td>...</td>\n",
       "      <td>...</td>\n",
       "      <td>...</td>\n",
       "      <td>...</td>\n",
       "      <td>...</td>\n",
       "      <td>...</td>\n",
       "      <td>...</td>\n",
       "      <td>...</td>\n",
       "      <td>...</td>\n",
       "      <td>...</td>\n",
       "      <td>...</td>\n",
       "      <td>...</td>\n",
       "      <td>...</td>\n",
       "    </tr>\n",
       "    <tr>\n",
       "      <th>4056</th>\n",
       "      <td>0.0</td>\n",
       "      <td>0.0</td>\n",
       "      <td>1.0</td>\n",
       "      <td>0.0</td>\n",
       "      <td>0.0</td>\n",
       "      <td>0.0</td>\n",
       "      <td>0.0</td>\n",
       "      <td>0.0</td>\n",
       "      <td>0.0</td>\n",
       "      <td>1.0</td>\n",
       "      <td>...</td>\n",
       "      <td>0.0</td>\n",
       "      <td>1.0</td>\n",
       "      <td>0.0</td>\n",
       "      <td>0.0</td>\n",
       "      <td>0.0</td>\n",
       "      <td>0.0</td>\n",
       "      <td>0.0</td>\n",
       "      <td>0.0</td>\n",
       "      <td>0.0</td>\n",
       "      <td>1.0</td>\n",
       "    </tr>\n",
       "    <tr>\n",
       "      <th>4057</th>\n",
       "      <td>0.0</td>\n",
       "      <td>0.0</td>\n",
       "      <td>1.0</td>\n",
       "      <td>0.0</td>\n",
       "      <td>0.0</td>\n",
       "      <td>0.0</td>\n",
       "      <td>1.0</td>\n",
       "      <td>0.0</td>\n",
       "      <td>0.0</td>\n",
       "      <td>0.0</td>\n",
       "      <td>...</td>\n",
       "      <td>1.0</td>\n",
       "      <td>0.0</td>\n",
       "      <td>0.0</td>\n",
       "      <td>0.0</td>\n",
       "      <td>1.0</td>\n",
       "      <td>0.0</td>\n",
       "      <td>0.0</td>\n",
       "      <td>0.0</td>\n",
       "      <td>0.0</td>\n",
       "      <td>1.0</td>\n",
       "    </tr>\n",
       "    <tr>\n",
       "      <th>4058</th>\n",
       "      <td>0.0</td>\n",
       "      <td>0.0</td>\n",
       "      <td>0.0</td>\n",
       "      <td>1.0</td>\n",
       "      <td>0.0</td>\n",
       "      <td>0.0</td>\n",
       "      <td>1.0</td>\n",
       "      <td>0.0</td>\n",
       "      <td>0.0</td>\n",
       "      <td>0.0</td>\n",
       "      <td>...</td>\n",
       "      <td>0.0</td>\n",
       "      <td>0.0</td>\n",
       "      <td>0.0</td>\n",
       "      <td>0.0</td>\n",
       "      <td>0.0</td>\n",
       "      <td>0.0</td>\n",
       "      <td>0.0</td>\n",
       "      <td>1.0</td>\n",
       "      <td>0.0</td>\n",
       "      <td>1.0</td>\n",
       "    </tr>\n",
       "    <tr>\n",
       "      <th>4060</th>\n",
       "      <td>0.0</td>\n",
       "      <td>0.0</td>\n",
       "      <td>1.0</td>\n",
       "      <td>0.0</td>\n",
       "      <td>0.0</td>\n",
       "      <td>0.0</td>\n",
       "      <td>1.0</td>\n",
       "      <td>0.0</td>\n",
       "      <td>0.0</td>\n",
       "      <td>0.0</td>\n",
       "      <td>...</td>\n",
       "      <td>0.0</td>\n",
       "      <td>1.0</td>\n",
       "      <td>0.0</td>\n",
       "      <td>0.0</td>\n",
       "      <td>0.0</td>\n",
       "      <td>0.0</td>\n",
       "      <td>0.0</td>\n",
       "      <td>0.0</td>\n",
       "      <td>1.0</td>\n",
       "      <td>0.0</td>\n",
       "    </tr>\n",
       "    <tr>\n",
       "      <th>4061</th>\n",
       "      <td>0.0</td>\n",
       "      <td>0.0</td>\n",
       "      <td>0.0</td>\n",
       "      <td>1.0</td>\n",
       "      <td>0.0</td>\n",
       "      <td>0.0</td>\n",
       "      <td>0.0</td>\n",
       "      <td>0.0</td>\n",
       "      <td>0.0</td>\n",
       "      <td>1.0</td>\n",
       "      <td>...</td>\n",
       "      <td>0.0</td>\n",
       "      <td>0.0</td>\n",
       "      <td>0.0</td>\n",
       "      <td>0.0</td>\n",
       "      <td>0.0</td>\n",
       "      <td>1.0</td>\n",
       "      <td>0.0</td>\n",
       "      <td>0.0</td>\n",
       "      <td>0.0</td>\n",
       "      <td>1.0</td>\n",
       "    </tr>\n",
       "  </tbody>\n",
       "</table>\n",
       "<p>3910 rows × 117 columns</p>\n",
       "</div>"
      ],
      "text/plain": [
       "      cap-shape_bell  cap-shape_conical  cap-shape_convex  cap-shape_flat  \\\n",
       "0                0.0                0.0               0.0             1.0   \n",
       "1                0.0                0.0               0.0             1.0   \n",
       "2                0.0                0.0               1.0             0.0   \n",
       "3                0.0                0.0               0.0             1.0   \n",
       "4                0.0                0.0               0.0             1.0   \n",
       "...              ...                ...               ...             ...   \n",
       "4056             0.0                0.0               1.0             0.0   \n",
       "4057             0.0                0.0               1.0             0.0   \n",
       "4058             0.0                0.0               0.0             1.0   \n",
       "4060             0.0                0.0               1.0             0.0   \n",
       "4061             0.0                0.0               0.0             1.0   \n",
       "\n",
       "      cap-shape_knobbed  cap-shape_sunken  cap-surface_fibrous  \\\n",
       "0                   0.0               0.0                  1.0   \n",
       "1                   0.0               0.0                  0.0   \n",
       "2                   0.0               0.0                  0.0   \n",
       "3                   0.0               0.0                  0.0   \n",
       "4                   0.0               0.0                  0.0   \n",
       "...                 ...               ...                  ...   \n",
       "4056                0.0               0.0                  0.0   \n",
       "4057                0.0               0.0                  1.0   \n",
       "4058                0.0               0.0                  1.0   \n",
       "4060                0.0               0.0                  1.0   \n",
       "4061                0.0               0.0                  0.0   \n",
       "\n",
       "      cap-surface_grooves  cap-surface_scaly  cap-surface_smooth  ...  \\\n",
       "0                     0.0                0.0                 0.0  ...   \n",
       "1                     0.0                0.0                 1.0  ...   \n",
       "2                     0.0                1.0                 0.0  ...   \n",
       "3                     0.0                1.0                 0.0  ...   \n",
       "4                     0.0                0.0                 1.0  ...   \n",
       "...                   ...                ...                 ...  ...   \n",
       "4056                  0.0                0.0                 1.0  ...   \n",
       "4057                  0.0                0.0                 0.0  ...   \n",
       "4058                  0.0                0.0                 0.0  ...   \n",
       "4060                  0.0                0.0                 0.0  ...   \n",
       "4061                  0.0                0.0                 1.0  ...   \n",
       "\n",
       "      population_solitary  habitat_grasses  habitat_leaves  habitat_meadows  \\\n",
       "0                     0.0              1.0             0.0              0.0   \n",
       "1                     0.0              0.0             1.0              0.0   \n",
       "2                     0.0              0.0             1.0              0.0   \n",
       "3                     1.0              0.0             0.0              0.0   \n",
       "4                     0.0              0.0             1.0              0.0   \n",
       "...                   ...              ...             ...              ...   \n",
       "4056                  0.0              1.0             0.0              0.0   \n",
       "4057                  1.0              0.0             0.0              0.0   \n",
       "4058                  0.0              0.0             0.0              0.0   \n",
       "4060                  0.0              1.0             0.0              0.0   \n",
       "4061                  0.0              0.0             0.0              0.0   \n",
       "\n",
       "      habitat_paths  habitat_urban  habitat_waste  habitat_woods  \\\n",
       "0               0.0            0.0            0.0            0.0   \n",
       "1               0.0            0.0            0.0            0.0   \n",
       "2               0.0            0.0            0.0            0.0   \n",
       "3               0.0            0.0            0.0            1.0   \n",
       "4               0.0            0.0            0.0            0.0   \n",
       "...             ...            ...            ...            ...   \n",
       "4056            0.0            0.0            0.0            0.0   \n",
       "4057            1.0            0.0            0.0            0.0   \n",
       "4058            0.0            0.0            0.0            1.0   \n",
       "4060            0.0            0.0            0.0            0.0   \n",
       "4061            0.0            1.0            0.0            0.0   \n",
       "\n",
       "      poisonous_edible  poisonous_poisonous  \n",
       "0                  1.0                  0.0  \n",
       "1                  0.0                  1.0  \n",
       "2                  0.0                  1.0  \n",
       "3                  1.0                  0.0  \n",
       "4                  0.0                  1.0  \n",
       "...                ...                  ...  \n",
       "4056               0.0                  1.0  \n",
       "4057               0.0                  1.0  \n",
       "4058               0.0                  1.0  \n",
       "4060               1.0                  0.0  \n",
       "4061               0.0                  1.0  \n",
       "\n",
       "[3910 rows x 117 columns]"
      ]
     },
     "execution_count": 692,
     "metadata": {},
     "output_type": "execute_result"
    }
   ],
   "source": [
    "df_imputed"
   ]
  },
  {
   "cell_type": "markdown",
   "id": "9f0cab1a-2274-4b5d-875e-7558026b497c",
   "metadata": {
    "id": "9f0cab1a-2274-4b5d-875e-7558026b497c"
   },
   "source": [
    "**Mapping inverse (variable binaire -> variable catégorielle)**"
   ]
  },
  {
   "cell_type": "code",
   "execution_count": 693,
   "id": "10a23c8d-f825-4cf4-8ff2-7bd8821a8aa2",
   "metadata": {
    "executionInfo": {
     "elapsed": 263,
     "status": "ok",
     "timestamp": 1714403786842,
     "user": {
      "displayName": "Géraud de Langlade",
      "userId": "09292225826687032589"
     },
     "user_tz": -120
    },
    "id": "10a23c8d-f825-4cf4-8ff2-7bd8821a8aa2"
   },
   "outputs": [],
   "source": [
    "import copy\n",
    "\n",
    "l_dct_imputed = df_imputed.to_dict('records')\n",
    "l_dct = []\n",
    "col_names_dct = {col_name.split('_')[0]: '' for col_name in l_dct_imputed[0]}\n",
    "for dct in l_dct_imputed:\n",
    "    new_dct = copy.deepcopy(col_names_dct)\n",
    "    for col, value in dct.items():\n",
    "        if value == 1.0:\n",
    "            name_splits = col.split('_')\n",
    "            new_dct[name_splits[0]] = name_splits[1]\n",
    "    l_dct.append(new_dct)\n",
    "\n",
    "df_main = pd.DataFrame(l_dct)\n"
   ]
  },
  {
   "cell_type": "code",
   "execution_count": 694,
   "id": "63f53423-608c-4cc2-9e72-1c1a545d4982",
   "metadata": {
    "colab": {
     "base_uri": "https://localhost:8080/"
    },
    "executionInfo": {
     "elapsed": 3,
     "status": "ok",
     "timestamp": 1714403786842,
     "user": {
      "displayName": "Géraud de Langlade",
      "userId": "09292225826687032589"
     },
     "user_tz": -120
    },
    "id": "63f53423-608c-4cc2-9e72-1c1a545d4982",
    "outputId": "7a67154f-e96d-4f6d-a892-dc55ef072dad"
   },
   "outputs": [
    {
     "data": {
      "text/plain": [
       "cap-shape                   0\n",
       "cap-surface                 0\n",
       "cap-color                   0\n",
       "bruises                     0\n",
       "odor                        0\n",
       "gill-attachment             0\n",
       "gill-spacing                0\n",
       "gill-size                   0\n",
       "gill-color                  0\n",
       "stalk-shape                 0\n",
       "stalk-root                  0\n",
       "stalk-surface-above-ring    0\n",
       "stalk-surface-below-ring    0\n",
       "stalk-color-above-ring      0\n",
       "stalk-color-below-ring      0\n",
       "veil-color                  0\n",
       "ring-number                 0\n",
       "ring-type                   0\n",
       "spore-print-color           0\n",
       "population                  0\n",
       "habitat                     0\n",
       "poisonous                   0\n",
       "dtype: int64"
      ]
     },
     "execution_count": 694,
     "metadata": {},
     "output_type": "execute_result"
    }
   ],
   "source": [
    "df_main = pd.DataFrame(l_dct)\n",
    "df_main.isna().sum()"
   ]
  },
  {
   "cell_type": "markdown",
   "id": "9615947c-3bfa-44ad-b875-9bf0a9baf444",
   "metadata": {
    "id": "9615947c-3bfa-44ad-b875-9bf0a9baf444"
   },
   "source": [
    "Le jeu de données **ne contient plus de valeur manquantes**"
   ]
  },
  {
   "cell_type": "markdown",
   "id": "0bee7072-3e41-49f6-bf1a-d52dead46092",
   "metadata": {
    "id": "0bee7072-3e41-49f6-bf1a-d52dead46092"
   },
   "source": [
    "Étant donné la présence de **plus de 100 sous-covariables** dans le jeu de données, il est envisagé de réduire ce nombre afin d'éviter l'**overfitting** du modèle de classification.\n"
   ]
  },
  {
   "cell_type": "markdown",
   "id": "d3779609-a182-4bee-b806-c4ebf4f27dfe",
   "metadata": {
    "id": "d3779609-a182-4bee-b806-c4ebf4f27dfe"
   },
   "source": [
    "# **Réduction de la dimensionalité**"
   ]
  },
  {
   "cell_type": "markdown",
   "id": "a55c9ba5-be0f-43fc-9b56-b3e590f134a0",
   "metadata": {
    "id": "a55c9ba5-be0f-43fc-9b56-b3e590f134a0"
   },
   "source": [
    "Pour réduire le nombre de covariables utilisées pour entraîner notre modèle, des techniques telles que l'**ACP** ou une régression **LASSO** peuvent être envisagées. La régression **LASSO** est une bonne option car elle permet de conserver l'interprétabilité directe des covariables sur les résultats. Bien que certains modèles, comme **`LogisticRegression`** de **sklearn**, offrent directement des hyperparamètres pour une réduction de dimension via **Lasso**, il est souhaitable de généraliser cette réduction indépendamment du classifieur utilisé.\n"
   ]
  },
  {
   "cell_type": "code",
   "execution_count": 695,
   "id": "b2c2635c-3344-4900-8383-4aba3b6f9423",
   "metadata": {
    "executionInfo": {
     "elapsed": 2,
     "status": "ok",
     "timestamp": 1714403786842,
     "user": {
      "displayName": "Géraud de Langlade",
      "userId": "09292225826687032589"
     },
     "user_tz": -120
    },
    "id": "b2c2635c-3344-4900-8383-4aba3b6f9423"
   },
   "outputs": [],
   "source": [
    "df_main_bin = pd.get_dummies(df_main, dtype=float)"
   ]
  },
  {
   "cell_type": "code",
   "execution_count": 696,
   "id": "2474c094-b977-4bcd-853b-4732f58872f1",
   "metadata": {
    "executionInfo": {
     "elapsed": 2,
     "status": "ok",
     "timestamp": 1714403786842,
     "user": {
      "displayName": "Géraud de Langlade",
      "userId": "09292225826687032589"
     },
     "user_tz": -120
    },
    "id": "2474c094-b977-4bcd-853b-4732f58872f1"
   },
   "outputs": [],
   "source": [
    "Y = df_main_bin['poisonous_poisonous'].copy()\n",
    "X = df_main_bin.drop(['poisonous_poisonous', 'poisonous_edible'], axis=1).copy()"
   ]
  },
  {
   "cell_type": "markdown",
   "id": "2E8f3FcBbmGV",
   "metadata": {
    "id": "2E8f3FcBbmGV"
   },
   "source": [
    "Il a été décidé de ne retenir que les **10 sous-covariables les plus significatives** pour indiquer qu'un champignon est vénimeux. Cette sélection permet d'éviter l'**overfitting** du modèle et de réduire considérablement le **travail de constitution du jeu de données**, facilitant ainsi l'utilisation du modèle sur de nouveaux champignons à l'avenir.\n"
   ]
  },
  {
   "cell_type": "code",
   "execution_count": 697,
   "id": "89cb343e-ba64-42fb-bcab-7ad932b46e9b",
   "metadata": {
    "colab": {
     "base_uri": "https://localhost:8080/"
    },
    "executionInfo": {
     "elapsed": 306,
     "status": "ok",
     "timestamp": 1714403787146,
     "user": {
      "displayName": "Géraud de Langlade",
      "userId": "09292225826687032589"
     },
     "user_tz": -120
    },
    "id": "89cb343e-ba64-42fb-bcab-7ad932b46e9b",
    "outputId": "8a83cbde-f412-4e6b-b207-e56ea22c3621"
   },
   "outputs": [
    {
     "name": "stdout",
     "output_type": "stream",
     "text": [
      "Pour alpha = 0.003, le modèle retient 29 sous-covariables\n",
      "Pour alpha = 0.005, le modèle retient 19 sous-covariables\n",
      "Pour alpha = 0.007, le modèle retient 17 sous-covariables\n",
      "Pour alpha = 0.009, le modèle retient 17 sous-covariables\n",
      "Pour alpha = 0.011, le modèle retient 14 sous-covariables\n",
      "Pour alpha = 0.013, le modèle retient 14 sous-covariables\n",
      "Pour alpha = 0.015, le modèle retient 13 sous-covariables\n",
      "Pour alpha = 0.017, le modèle retient 13 sous-covariables\n",
      "Pour alpha = 0.019, le modèle retient 13 sous-covariables\n",
      "Pour alpha = 0.021, le modèle retient 11 sous-covariables\n",
      "Pour alpha = 0.023, le modèle retient 10 sous-covariables\n"
     ]
    }
   ],
   "source": [
    "from sklearn.linear_model import Lasso\n",
    "\n",
    "alpha = 0.001\n",
    "l_col_to_consider = []\n",
    "col_to_drop = ['bruises_no', 'gill-size_broad']\n",
    "while len(l_col_to_consider) != 10:\n",
    "    lasso_reg = Lasso(alpha, max_iter=2000)\n",
    "    lasso_reg.fit(X, y = Y)\n",
    "    l_col_to_consider = [col for col, coef in zip(X.columns, lasso_reg.coef_) if coef != 0 and col not in col_to_drop]\n",
    "    alpha += 0.002\n",
    "    print(f\"Pour alpha = {round(alpha, 4)}, le modèle retient {len(l_col_to_consider)} sous-covariables\")"
   ]
  },
  {
   "cell_type": "markdown",
   "id": "prBgCr1dYDbj",
   "metadata": {
    "id": "prBgCr1dYDbj"
   },
   "source": [
    "Il est observé que le fait qu'un champignon **ne soit pas odorant** a un impact très significatif sur sa **vénénosité**, dominant largement les 9 autres covariables les plus significatives."
   ]
  },
  {
   "cell_type": "code",
   "execution_count": 698,
   "id": "a33990b0-2ecb-4e7c-b0a6-4cca78acaa49",
   "metadata": {
    "colab": {
     "base_uri": "https://localhost:8080/",
     "height": 799
    },
    "executionInfo": {
     "elapsed": 858,
     "status": "ok",
     "timestamp": 1714403793327,
     "user": {
      "displayName": "Géraud de Langlade",
      "userId": "09292225826687032589"
     },
     "user_tz": -120
    },
    "id": "a33990b0-2ecb-4e7c-b0a6-4cca78acaa49",
    "outputId": "a0a00d3a-33f8-4903-f041-929a50d176f7"
   },
   "outputs": [
    {
     "data": {
      "image/png": "[encoded data removed]",
      "text/plain": [
       "<Figure size 1200x700 with 1 Axes>"
      ]
     },
     "metadata": {},
     "output_type": "display_data"
    }
   ],
   "source": [
    "import matplotlib.pyplot as plt\n",
    "\n",
    "\n",
    "l_col_to_consider_raw = [(col, abs(coef)) for col, coef in zip(X.columns, lasso_reg.coef_) if round(coef, 5) != 0]\n",
    "col_to_consider = sorted(l_col_to_consider_raw, key=lambda col: col[1], reverse=True)\n",
    "\n",
    "col_name, coefs = zip(*col_to_consider)\n",
    "\n",
    "plt.figure(figsize=(12, 7))\n",
    "\n",
    "plt.bar(col_name, coefs)\n",
    "plt.xticks(rotation=-45)\n",
    "plt.xlabel('valeur des coefficients')\n",
    "plt.ylabel('coefficients')\n",
    "plt.title('Les 10 coefficients ayant le plus d\\'impact sur le fait qu\\'un champignon soit vénéneux')\n",
    "\n",
    "plt.show()"
   ]
  },
  {
   "cell_type": "code",
   "execution_count": 699,
   "id": "e0d2dbc7-0d1c-46bc-94e5-589e0a719ff8",
   "metadata": {
    "colab": {
     "base_uri": "https://localhost:8080/"
    },
    "executionInfo": {
     "elapsed": 3,
     "status": "ok",
     "timestamp": 1714403793327,
     "user": {
      "displayName": "Géraud de Langlade",
      "userId": "09292225826687032589"
     },
     "user_tz": -120
    },
    "id": "e0d2dbc7-0d1c-46bc-94e5-589e0a719ff8",
    "outputId": "7ea6f68a-1bcd-410d-c3b8-5dc1d8e59ba8"
   },
   "outputs": [
    {
     "data": {
      "text/plain": [
       "['bruises_bruises',\n",
       " 'odor_foul',\n",
       " 'odor_none',\n",
       " 'gill-size_narrow',\n",
       " 'stalk-root_bulbous',\n",
       " 'stalk-surface-above-ring_silky',\n",
       " 'stalk-surface-above-ring_smooth',\n",
       " 'ring-type_pendant',\n",
       " 'spore-print-color_chocolate',\n",
       " 'population_several']"
      ]
     },
     "execution_count": 699,
     "metadata": {},
     "output_type": "execute_result"
    }
   ],
   "source": [
    "len(l_col_to_consider)\n",
    "l_col_to_consider"
   ]
  },
  {
   "cell_type": "markdown",
   "id": "Sk-O10IMXx6V",
   "metadata": {
    "id": "Sk-O10IMXx6V"
   },
   "source": [
    "Seulement les **10 sous covariable** les plus significatives du dataframe binarisé sont donc **gardées** pour **l'entrainement des modèles de classification**"
   ]
  },
  {
   "cell_type": "code",
   "execution_count": 700,
   "id": "f6533869-2f76-46a2-8f1c-4ea30996d575",
   "metadata": {
    "executionInfo": {
     "elapsed": 368,
     "status": "ok",
     "timestamp": 1714403799575,
     "user": {
      "displayName": "Géraud de Langlade",
      "userId": "09292225826687032589"
     },
     "user_tz": -120
    },
    "id": "f6533869-2f76-46a2-8f1c-4ea30996d575"
   },
   "outputs": [],
   "source": [
    "df_features = X[l_col_to_consider].copy()"
   ]
  },
  {
   "cell_type": "markdown",
   "id": "NgaDEZHchnil",
   "metadata": {
    "id": "NgaDEZHchnil"
   },
   "source": [
    "## **Vérification de l'indépendance des covariables**\n"
   ]
  },
  {
   "cell_type": "markdown",
   "id": "abf068c9-954d-4386-bf29-8d2bc023acaf",
   "metadata": {},
   "source": [
    "Avant de lancer l'entraînement des classifieurs, il est crucial de vérifier si les variables sélectionnées sont indépendantes entre elles pour éviter la redondance des covariables en entrée des modèles.\n",
    "\n",
    "Pour cela, un test de $\\chi^2$ sera réalisé pour évaluer l'association entre les sous-covariables parmi les 10 précédemment sélectionnées.\n",
    "\n",
    "La formule du test de $\\chi^2$ est la suivante :\n",
    "\n",
    "La formule de la statistique de test du $\\chi^2$ d'indépendance est :\n",
    "\n",
    "$$\n",
    "\\chi^2 = \\sum \\frac{(O_{ij} - E_{ij})^2}{E_{ij}}\n",
    "$$\n",
    "\n",
    "où :\n",
    "- $(O_{ij})$ est la fréquence observée dans la cellule de la table de contingence à l'intersection de la i-ème ligne et de la j-ème colonne,\n",
    "- $(E_{ij})$ est la fréquence attendue pour la cellule, calculée par :\n",
    "\n",
    "\n",
    "\n",
    "$$\n",
    "E_{ij} = \\frac{(n_{i.} \\times n_{.j})}{n}\n",
    "$$\n",
    "\n",
    "- $(n_{i.})$ est le total de la i-ème ligne,\n",
    "- $(n_{.j})$ est le total de la j-ème colonne,\n",
    "- $(n)$ est le total général de toutes les observations dans la table.\n",
    "\n",
    "\n"
   ]
  },
  {
   "cell_type": "code",
   "execution_count": 779,
   "id": "-wrzUxeqh-rR",
   "metadata": {
    "executionInfo": {
     "elapsed": 973,
     "status": "ok",
     "timestamp": 1714406134065,
     "user": {
      "displayName": "Géraud de Langlade",
      "userId": "09292225826687032589"
     },
     "user_tz": -120
    },
    "id": "-wrzUxeqh-rR"
   },
   "outputs": [],
   "source": [
    "import pandas as pd\n",
    "import numpy as np\n",
    "from scipy.stats import chi2_contingency, chi2\n",
    "\n",
    "def get_chi2_test(df, seuil):\n",
    "    cat_vars = df.columns.tolist()\n",
    "    i = 0\n",
    "    count_res = 0\n",
    "    l_failed_asso = []\n",
    "    l_var1 = []\n",
    "    l_stat_test = []\n",
    "    for var1 in cat_vars:\n",
    "        l_var1.append(var1)\n",
    "        for var2 in cat_vars:\n",
    "            if var1 != var2 and var2 not in l_var1:\n",
    "                table = pd.crosstab(df[var1], df[var2])\n",
    "                chi2_stat, _, _, _ = chi2_contingency(table)\n",
    "                critical_val = chi2.ppf(seuil, df=1)\n",
    "                if chi2_stat<critical_val:\n",
    "                    count_res += 1\n",
    "                else:\n",
    "                    l_failed_asso.append((var1, var2))\n",
    "                l_stat_test.append()\n",
    "                i += 1\n",
    "    \n",
    "    print(f\"Pourcentage de tests valides à un seuil de confiance de {100*seuil:.0f}% : {100*(count_res/i):.2f}%\" + '\\n')\n",
    "    print('Voici la liste des associations de variables qui n\\'ont pas passée le test:' + '\\n')\n",
    "    for asso in l_failed_asso:\n",
    "        print(f\"{asso[0]} et {asso[1]}\")"
   ]
  },
  {
   "cell_type": "code",
   "execution_count": 799,
   "id": "0f63b314-f759-4ac5-8648-7ffad31767be",
   "metadata": {},
   "outputs": [
    {
     "data": {
      "text/plain": [
       "68.7632522116684"
      ]
     },
     "execution_count": 799,
     "metadata": {},
     "output_type": "execute_result"
    }
   ],
   "source": [
    "chi2.ppf(0.9999999999999999, df=1)"
   ]
  },
  {
   "cell_type": "code",
   "execution_count": 801,
   "id": "c2b96d09-f38b-4dd8-a372-5a60c5eb13ca",
   "metadata": {},
   "outputs": [
    {
     "name": "stdout",
     "output_type": "stream",
     "text": [
      "Pourcentage de tests valides à un seuil de confiance de 99% : 6.67%\n",
      "\n",
      "Voici la liste des associations de variables qui n'ont pas passée le test:\n",
      "\n",
      "bruises_bruises et odor_foul\n",
      "bruises_bruises et odor_none\n",
      "bruises_bruises et gill-size_narrow\n",
      "bruises_bruises et stalk-surface-above-ring_silky\n",
      "bruises_bruises et stalk-surface-above-ring_smooth\n",
      "bruises_bruises et ring-type_pendant\n",
      "bruises_bruises et spore-print-color_chocolate\n",
      "bruises_bruises et population_several\n",
      "odor_foul et odor_none\n",
      "odor_foul et gill-size_narrow\n",
      "odor_foul et stalk-root_bulbous\n",
      "odor_foul et stalk-surface-above-ring_silky\n",
      "odor_foul et stalk-surface-above-ring_smooth\n",
      "odor_foul et ring-type_pendant\n",
      "odor_foul et spore-print-color_chocolate\n",
      "odor_foul et population_several\n",
      "odor_none et gill-size_narrow\n",
      "odor_none et stalk-root_bulbous\n",
      "odor_none et stalk-surface-above-ring_silky\n",
      "odor_none et stalk-surface-above-ring_smooth\n",
      "odor_none et ring-type_pendant\n",
      "odor_none et spore-print-color_chocolate\n",
      "odor_none et population_several\n",
      "gill-size_narrow et stalk-root_bulbous\n",
      "gill-size_narrow et stalk-surface-above-ring_silky\n",
      "gill-size_narrow et ring-type_pendant\n",
      "gill-size_narrow et spore-print-color_chocolate\n",
      "gill-size_narrow et population_several\n",
      "stalk-root_bulbous et stalk-surface-above-ring_silky\n",
      "stalk-root_bulbous et stalk-surface-above-ring_smooth\n",
      "stalk-root_bulbous et ring-type_pendant\n",
      "stalk-root_bulbous et spore-print-color_chocolate\n",
      "stalk-root_bulbous et population_several\n",
      "stalk-surface-above-ring_silky et stalk-surface-above-ring_smooth\n",
      "stalk-surface-above-ring_silky et ring-type_pendant\n",
      "stalk-surface-above-ring_silky et spore-print-color_chocolate\n",
      "stalk-surface-above-ring_silky et population_several\n",
      "stalk-surface-above-ring_smooth et ring-type_pendant\n",
      "stalk-surface-above-ring_smooth et spore-print-color_chocolate\n",
      "stalk-surface-above-ring_smooth et population_several\n",
      "ring-type_pendant et spore-print-color_chocolate\n",
      "ring-type_pendant et population_several\n"
     ]
    }
   ],
   "source": [
    "# test à un seuil de confiance de 99%\n",
    "get_chi2_test(df_features, 0.99)"
   ]
  },
  {
   "cell_type": "markdown",
   "id": "c015639a-89f5-4eb9-af18-bf021bb7c2fa",
   "metadata": {},
   "source": [
    "Ainsi, **93.33%** des associations de sous-covariables **ne passent pas le test d'indépendance** du $\\chi^2$ avec un seuil de confiance à **99%**, ce qui peut sembler est très élevé. Cela s'explique principalement par le fait que, les champignons **possèdent des caractéristiques qui sont souvent corrélées**. Par exemple, la couleur, la forme, et la surface du chapeau peuvent toutes être liées à la comestibilité. Néanmoins, il est important de noter qu'elles **conservent chacune une partie de leur information qui diffère des autres sous-covariables**. D'où le fait pour qu'**aucune sous-covariable ne sera retirée** des données d'entrainement."
   ]
  },
  {
   "cell_type": "markdown",
   "id": "cf9be6e1-1972-4cc8-b6f1-e92b0335824e",
   "metadata": {
    "id": "cf9be6e1-1972-4cc8-b6f1-e92b0335824e"
   },
   "source": [
    "# Entrainement du modèle"
   ]
  },
  {
   "cell_type": "markdown",
   "id": "ZEqI7PIEcj1C",
   "metadata": {
    "id": "ZEqI7PIEcj1C"
   },
   "source": [
    "À partir de l'échantillon pré-traité, et en réponse aux **problématiques d'équilibrage du jeu d'entraînement**, la fonction **`dataset_divider`** a été créée pour **biaiser** ce dernier en fonction de la **proportion d'exemples positifs demandée** dans le dataframe d'entraînement.\n"
   ]
  },
  {
   "cell_type": "markdown",
   "id": "XOn-cr-od5Im",
   "metadata": {
    "id": "XOn-cr-od5Im"
   },
   "source": [
    "En complément, pour **faciliter l'entraînement et la validation des modèles**, la fonction **`train_model_and_predict`** a été développée. Cette fonction permet d'entraîner le modèle et de fournir des prédictions sur l'échantillon de test. Elle prend en charge les modèles **Logistic Regression** (un modèle simple mais efficace pour les tâches de classification) et **Random Forest** (un modèle hautement performant en classification), tous deux implémentés via **scikit-learn**.\n",
    "\n"
   ]
  },
  {
   "cell_type": "markdown",
   "id": "pjLbmAWwgkgo",
   "metadata": {
    "id": "pjLbmAWwgkgo"
   },
   "source": [
    "La fonction **`get_score`** a été ajoutée pour permettre, à partir des labels de l'échantillon de test et des prédictions obtenues, de mesurer l'**accuracy** (pertinente dans les jeux de données équilibrés) et surtout le **recall** (crucial dans les cas où la **maximisation des vrais positifs** est nécessaire, comme c'est le cas ici, pour **éviter les faux-négatifs**).\n",
    "\n",
    "Enfin, la fonction **`cross_val`** a été ajoutée pour **englober les trois fonctions précédentes**, facilitant ainsi la réalisation d'une **validation croisée**, essentielle pour confirmer **la robustesse des résultats d'un modèle**.\n",
    "\n"
   ]
  },
  {
   "cell_type": "code",
   "execution_count": 903,
   "id": "7c937a1a-2015-46c7-b091-a10fecfac197",
   "metadata": {
    "executionInfo": {
     "elapsed": 383,
     "status": "ok",
     "timestamp": 1714406206586,
     "user": {
      "displayName": "Géraud de Langlade",
      "userId": "09292225826687032589"
     },
     "user_tz": -120
    },
    "id": "7c937a1a-2015-46c7-b091-a10fecfac197"
   },
   "outputs": [],
   "source": [
    "from sklearn.ensemble import RandomForestClassifier\n",
    "from sklearn.linear_model import LogisticRegression\n",
    "from sklearn.model_selection import train_test_split\n",
    "\n",
    "def dataset_divider(df, class_1_percent=None):\n",
    "    if not class_1_percent:\n",
    "        return df\n",
    "    mask_ones = df['target'] == 1\n",
    "    freq_ones = len(df[mask_ones])/len(df)\n",
    "\n",
    "    if class_1_percent > freq_ones:\n",
    "        num_ones = (mask_ones).sum()\n",
    "        num_zeroes = int(num_ones * (1 - class_1_percent) / class_1_percent)\n",
    "        df_zeroes = df[~mask_ones].sample(num_zeroes)\n",
    "        df_out = pd.concat([df[mask_ones], df_zeroes])\n",
    "    else:\n",
    "        num_zeroes = (~mask_ones).sum()\n",
    "        num_ones = int(num_zeroes * class_1_percent / (1 - class_1_percent))\n",
    "        df_ones = df[mask_ones].sample(num_ones)\n",
    "        df_out = pd.concat([df[~mask_ones], df_ones])\n",
    "\n",
    "    return df_out.reset_index()\n",
    "\n",
    "\n",
    "def train_model_and_predict(df, model_name = 'random_forest', test_size = 0.2):\n",
    "\n",
    "    X = df.drop('target', axis=1)\n",
    "    y = df['target']\n",
    "    X_train, X_test, y_train, y_test  = train_test_split(X, y, test_size=test_size, stratify=y)\n",
    "\n",
    "    if model_name == 'random_forest':\n",
    "        model = RandomForestClassifier()\n",
    "    elif model_name == 'log_reg':\n",
    "        model = LogisticRegression(max_iter=4000)\n",
    "\n",
    "    model.fit(X_train, y= y_train)\n",
    "\n",
    "    predictions = model.predict(X_test)\n",
    "\n",
    "    return model, predictions, y_test\n",
    "\n",
    "\n",
    "def get_score(predicted_values, true_values, score_type ='accuracy', in_percent = False):\n",
    "\n",
    "    y_test_array = true_values.to_numpy()\n",
    "\n",
    "    count=0\n",
    "    TP = 0\n",
    "    FN = 0\n",
    "    for predicted_val, truth_val in zip(predicted_values, y_test_array):\n",
    "        if score_type == \"accuracy\":\n",
    "            if predicted_val == truth_val:\n",
    "                count += 1\n",
    "        elif score_type == \"recall\":\n",
    "            if predicted_val == truth_val and truth_val == 1:\n",
    "                TP += 1\n",
    "            if predicted_val != truth_val and truth_val == 1:\n",
    "                FN += 1\n",
    "\n",
    "    if score_type == \"accuracy\":\n",
    "        score = count/len(y_test_array)\n",
    "    elif score_type == \"recall\":\n",
    "        score = TP/(TP+FN)\n",
    "    if in_percent:\n",
    "        return f\"{100*score:.2f}%\"\n",
    "\n",
    "    return round(score, 4)\n",
    "\n",
    "\n",
    "def cross_val(df, class_1_percent, model_name, n_cross_val, score_type = 'accuracy', in_percent = True):\n",
    "\n",
    "    l_scores = []\n",
    "    for i in range(n_cross_val):\n",
    "        df_biaised = dataset_divider(df, class_1_percent)\n",
    "        model, preds, y_test = train_model_and_predict(df_biaised, model_name, test_size = 0.2)\n",
    "        l_scores.append(get_score(preds, y_test, score_type))\n",
    "    score = np.mean(l_scores)\n",
    "    std_score = np.std(l_scores)\n",
    "    confidence_interval = (score - 1.96*std_score, score + 1.96*std_score)\n",
    "    if confidence_interval[1] > 1:\n",
    "        confidence_interval = (confidence_interval[0], 1)\n",
    "    if in_percent:\n",
    "        return f\"{100*score:.2f}%\", f\"[{100*confidence_interval[0]:.2f}%, {100*confidence_interval[1]:.2f}%]\"\n",
    "\n",
    "    return round(score, 4), confidence_interval\n",
    "\n"
   ]
  },
  {
   "cell_type": "markdown",
   "id": "52WHphnBpqv0",
   "metadata": {
    "id": "52WHphnBpqv0"
   },
   "source": [
    "La variable cible est **remise dans le dataframe d'entrainement pour le calcul des scores** pour les deux modèles choisis.\n"
   ]
  },
  {
   "cell_type": "code",
   "execution_count": 708,
   "id": "5174de7f-714f-4219-9021-67d35784ca91",
   "metadata": {
    "executionInfo": {
     "elapsed": 273,
     "status": "ok",
     "timestamp": 1714406213418,
     "user": {
      "displayName": "Géraud de Langlade",
      "userId": "09292225826687032589"
     },
     "user_tz": -120
    },
    "id": "5174de7f-714f-4219-9021-67d35784ca91"
   },
   "outputs": [],
   "source": [
    "df_main = df_features.copy()\n",
    "df_main['target'] = Y"
   ]
  },
  {
   "cell_type": "code",
   "execution_count": 709,
   "id": "3b1c712b-e778-4494-944b-d803846484fa",
   "metadata": {
    "colab": {
     "base_uri": "https://localhost:8080/",
     "height": 496
    },
    "executionInfo": {
     "elapsed": 318,
     "status": "ok",
     "timestamp": 1714406217457,
     "user": {
      "displayName": "Géraud de Langlade",
      "userId": "09292225826687032589"
     },
     "user_tz": -120
    },
    "id": "3b1c712b-e778-4494-944b-d803846484fa",
    "outputId": "ad67225b-84e6-4f6c-b1d0-d6c4e861f6bf"
   },
   "outputs": [
    {
     "data": {
      "text/html": [
       "<div>\n",
       "<style scoped>\n",
       "    .dataframe tbody tr th:only-of-type {\n",
       "        vertical-align: middle;\n",
       "    }\n",
       "\n",
       "    .dataframe tbody tr th {\n",
       "        vertical-align: top;\n",
       "    }\n",
       "\n",
       "    .dataframe thead th {\n",
       "        text-align: right;\n",
       "    }\n",
       "</style>\n",
       "<table border=\"1\" class=\"dataframe\">\n",
       "  <thead>\n",
       "    <tr style=\"text-align: right;\">\n",
       "      <th></th>\n",
       "      <th>bruises_bruises</th>\n",
       "      <th>odor_foul</th>\n",
       "      <th>odor_none</th>\n",
       "      <th>gill-size_narrow</th>\n",
       "      <th>stalk-root_bulbous</th>\n",
       "      <th>stalk-surface-above-ring_silky</th>\n",
       "      <th>stalk-surface-above-ring_smooth</th>\n",
       "      <th>ring-type_pendant</th>\n",
       "      <th>spore-print-color_chocolate</th>\n",
       "      <th>population_several</th>\n",
       "      <th>target</th>\n",
       "    </tr>\n",
       "  </thead>\n",
       "  <tbody>\n",
       "    <tr>\n",
       "      <th>0</th>\n",
       "      <td>0.0</td>\n",
       "      <td>0.0</td>\n",
       "      <td>1.0</td>\n",
       "      <td>0.0</td>\n",
       "      <td>0.0</td>\n",
       "      <td>0.0</td>\n",
       "      <td>1.0</td>\n",
       "      <td>0.0</td>\n",
       "      <td>0.0</td>\n",
       "      <td>0.0</td>\n",
       "      <td>0.0</td>\n",
       "    </tr>\n",
       "    <tr>\n",
       "      <th>1</th>\n",
       "      <td>0.0</td>\n",
       "      <td>0.0</td>\n",
       "      <td>0.0</td>\n",
       "      <td>1.0</td>\n",
       "      <td>1.0</td>\n",
       "      <td>0.0</td>\n",
       "      <td>1.0</td>\n",
       "      <td>0.0</td>\n",
       "      <td>0.0</td>\n",
       "      <td>1.0</td>\n",
       "      <td>1.0</td>\n",
       "    </tr>\n",
       "    <tr>\n",
       "      <th>2</th>\n",
       "      <td>0.0</td>\n",
       "      <td>1.0</td>\n",
       "      <td>0.0</td>\n",
       "      <td>1.0</td>\n",
       "      <td>1.0</td>\n",
       "      <td>1.0</td>\n",
       "      <td>0.0</td>\n",
       "      <td>0.0</td>\n",
       "      <td>0.0</td>\n",
       "      <td>1.0</td>\n",
       "      <td>1.0</td>\n",
       "    </tr>\n",
       "    <tr>\n",
       "      <th>3</th>\n",
       "      <td>1.0</td>\n",
       "      <td>0.0</td>\n",
       "      <td>1.0</td>\n",
       "      <td>0.0</td>\n",
       "      <td>1.0</td>\n",
       "      <td>0.0</td>\n",
       "      <td>1.0</td>\n",
       "      <td>1.0</td>\n",
       "      <td>0.0</td>\n",
       "      <td>0.0</td>\n",
       "      <td>0.0</td>\n",
       "    </tr>\n",
       "    <tr>\n",
       "      <th>4</th>\n",
       "      <td>0.0</td>\n",
       "      <td>0.0</td>\n",
       "      <td>0.0</td>\n",
       "      <td>1.0</td>\n",
       "      <td>1.0</td>\n",
       "      <td>0.0</td>\n",
       "      <td>1.0</td>\n",
       "      <td>0.0</td>\n",
       "      <td>0.0</td>\n",
       "      <td>1.0</td>\n",
       "      <td>1.0</td>\n",
       "    </tr>\n",
       "    <tr>\n",
       "      <th>...</th>\n",
       "      <td>...</td>\n",
       "      <td>...</td>\n",
       "      <td>...</td>\n",
       "      <td>...</td>\n",
       "      <td>...</td>\n",
       "      <td>...</td>\n",
       "      <td>...</td>\n",
       "      <td>...</td>\n",
       "      <td>...</td>\n",
       "      <td>...</td>\n",
       "      <td>...</td>\n",
       "    </tr>\n",
       "    <tr>\n",
       "      <th>3905</th>\n",
       "      <td>1.0</td>\n",
       "      <td>1.0</td>\n",
       "      <td>0.0</td>\n",
       "      <td>0.0</td>\n",
       "      <td>1.0</td>\n",
       "      <td>0.0</td>\n",
       "      <td>1.0</td>\n",
       "      <td>1.0</td>\n",
       "      <td>1.0</td>\n",
       "      <td>0.0</td>\n",
       "      <td>1.0</td>\n",
       "    </tr>\n",
       "    <tr>\n",
       "      <th>3906</th>\n",
       "      <td>0.0</td>\n",
       "      <td>1.0</td>\n",
       "      <td>0.0</td>\n",
       "      <td>0.0</td>\n",
       "      <td>1.0</td>\n",
       "      <td>1.0</td>\n",
       "      <td>0.0</td>\n",
       "      <td>0.0</td>\n",
       "      <td>1.0</td>\n",
       "      <td>0.0</td>\n",
       "      <td>1.0</td>\n",
       "    </tr>\n",
       "    <tr>\n",
       "      <th>3907</th>\n",
       "      <td>0.0</td>\n",
       "      <td>1.0</td>\n",
       "      <td>0.0</td>\n",
       "      <td>0.0</td>\n",
       "      <td>1.0</td>\n",
       "      <td>1.0</td>\n",
       "      <td>0.0</td>\n",
       "      <td>0.0</td>\n",
       "      <td>1.0</td>\n",
       "      <td>1.0</td>\n",
       "      <td>1.0</td>\n",
       "    </tr>\n",
       "    <tr>\n",
       "      <th>3908</th>\n",
       "      <td>0.0</td>\n",
       "      <td>0.0</td>\n",
       "      <td>1.0</td>\n",
       "      <td>0.0</td>\n",
       "      <td>0.0</td>\n",
       "      <td>0.0</td>\n",
       "      <td>0.0</td>\n",
       "      <td>0.0</td>\n",
       "      <td>0.0</td>\n",
       "      <td>0.0</td>\n",
       "      <td>0.0</td>\n",
       "    </tr>\n",
       "    <tr>\n",
       "      <th>3909</th>\n",
       "      <td>1.0</td>\n",
       "      <td>1.0</td>\n",
       "      <td>0.0</td>\n",
       "      <td>0.0</td>\n",
       "      <td>1.0</td>\n",
       "      <td>0.0</td>\n",
       "      <td>1.0</td>\n",
       "      <td>1.0</td>\n",
       "      <td>1.0</td>\n",
       "      <td>0.0</td>\n",
       "      <td>1.0</td>\n",
       "    </tr>\n",
       "  </tbody>\n",
       "</table>\n",
       "<p>3910 rows × 11 columns</p>\n",
       "</div>"
      ],
      "text/plain": [
       "      bruises_bruises  odor_foul  odor_none  gill-size_narrow  \\\n",
       "0                 0.0        0.0        1.0               0.0   \n",
       "1                 0.0        0.0        0.0               1.0   \n",
       "2                 0.0        1.0        0.0               1.0   \n",
       "3                 1.0        0.0        1.0               0.0   \n",
       "4                 0.0        0.0        0.0               1.0   \n",
       "...               ...        ...        ...               ...   \n",
       "3905              1.0        1.0        0.0               0.0   \n",
       "3906              0.0        1.0        0.0               0.0   \n",
       "3907              0.0        1.0        0.0               0.0   \n",
       "3908              0.0        0.0        1.0               0.0   \n",
       "3909              1.0        1.0        0.0               0.0   \n",
       "\n",
       "      stalk-root_bulbous  stalk-surface-above-ring_silky  \\\n",
       "0                    0.0                             0.0   \n",
       "1                    1.0                             0.0   \n",
       "2                    1.0                             1.0   \n",
       "3                    1.0                             0.0   \n",
       "4                    1.0                             0.0   \n",
       "...                  ...                             ...   \n",
       "3905                 1.0                             0.0   \n",
       "3906                 1.0                             1.0   \n",
       "3907                 1.0                             1.0   \n",
       "3908                 0.0                             0.0   \n",
       "3909                 1.0                             0.0   \n",
       "\n",
       "      stalk-surface-above-ring_smooth  ring-type_pendant  \\\n",
       "0                                 1.0                0.0   \n",
       "1                                 1.0                0.0   \n",
       "2                                 0.0                0.0   \n",
       "3                                 1.0                1.0   \n",
       "4                                 1.0                0.0   \n",
       "...                               ...                ...   \n",
       "3905                              1.0                1.0   \n",
       "3906                              0.0                0.0   \n",
       "3907                              0.0                0.0   \n",
       "3908                              0.0                0.0   \n",
       "3909                              1.0                1.0   \n",
       "\n",
       "      spore-print-color_chocolate  population_several  target  \n",
       "0                             0.0                 0.0     0.0  \n",
       "1                             0.0                 1.0     1.0  \n",
       "2                             0.0                 1.0     1.0  \n",
       "3                             0.0                 0.0     0.0  \n",
       "4                             0.0                 1.0     1.0  \n",
       "...                           ...                 ...     ...  \n",
       "3905                          1.0                 0.0     1.0  \n",
       "3906                          1.0                 0.0     1.0  \n",
       "3907                          1.0                 1.0     1.0  \n",
       "3908                          0.0                 0.0     0.0  \n",
       "3909                          1.0                 0.0     1.0  \n",
       "\n",
       "[3910 rows x 11 columns]"
      ]
     },
     "execution_count": 709,
     "metadata": {},
     "output_type": "execute_result"
    }
   ],
   "source": [
    "df_main"
   ]
  },
  {
   "cell_type": "markdown",
   "id": "f9496f2a-28a7-4589-accf-9e737d8252f8",
   "metadata": {
    "id": "f9496f2a-28a7-4589-accf-9e737d8252f8"
   },
   "source": [
    "### **Résultats avec la Régression Logistique**"
   ]
  },
  {
   "cell_type": "code",
   "execution_count": 891,
   "id": "OqUwwdn_HwYJ",
   "metadata": {
    "colab": {
     "base_uri": "https://localhost:8080/"
    },
    "executionInfo": {
     "elapsed": 31953,
     "status": "ok",
     "timestamp": 1714406278374,
     "user": {
      "displayName": "Géraud de Langlade",
      "userId": "09292225826687032589"
     },
     "user_tz": -120
    },
    "id": "OqUwwdn_HwYJ",
    "outputId": "11b318eb-ee26-48ac-a516-17de27a807ad"
   },
   "outputs": [
    {
     "name": "stdout",
     "output_type": "stream",
     "text": [
      "L'accuracy pour le modèle de régression logistique avec un pourcentage de champignons vénéneux dans le dataset original de 10.00%\n",
      "est égal à: 98.79%, intervalle de confiance: [97.70%, 99.88%]\n",
      "Le recall pour le modèle de régression logistique avec un pourcentage de champignons vénéneux dans le dataset original de 10.00%\n",
      "est égal à: 88.62%, intervalle de confiance: [79.50%, 97.74%]\n",
      "L'accuracy pour le modèle de régression logistique avec un pourcentage de champignons vénéneux dans le dataset original de 30.00%\n",
      "est égal à: 96.76%, intervalle de confiance: [95.17%, 98.35%]\n",
      "Le recall pour le modèle de régression logistique avec un pourcentage de champignons vénéneux dans le dataset original de 30.00%\n",
      "est égal à: 95.57%, intervalle de confiance: [91.25%, 99.89%]\n",
      "L'accuracy pour le modèle de régression logistique avec un pourcentage de champignons vénéneux dans le dataset original de 51.61%\n",
      "est égal à: 97.29%, intervalle de confiance: [96.38%, 98.19%]\n",
      "Le recall pour le modèle de régression logistique avec un pourcentage de champignons vénéneux dans le dataset original de 51.61%\n",
      "est égal à: 97.87%, intervalle de confiance: [96.50%, 99.24%]\n"
     ]
    }
   ],
   "source": [
    "prop_1_unbiased_df = df_main['target'].value_counts()[0]/len(df_main)\n",
    "l_prop_to_bias = [0.1, 0.3, prop_1_unbiased_df]\n",
    "\n",
    "for prop in l_prop_to_bias:\n",
    "    accu, conf_inter_acc= cross_val(df_main, prop, model_name = 'log_reg', n_cross_val = 50, score_type = 'accuracy', in_percent = True)\n",
    "    recall, conf_inter_rec= cross_val(df_main, prop, model_name = 'log_reg', n_cross_val = 50, score_type = 'recall', in_percent = True)\n",
    "    print(f\"\"\"L'accuracy pour le modèle de régression logistique avec un pourcentage de champignons vénéneux dans le dataset original de {100*prop:.2f}%\n",
    "est égal à: {accu}, intervalle de confiance: {conf_inter_acc}\"\"\")\n",
    "    print(f\"\"\"Le recall pour le modèle de régression logistique avec un pourcentage de champignons vénéneux dans le dataset original de {100*prop:.2f}%\n",
    "est égal à: {recall}, intervalle de confiance: {conf_inter_rec}\"\"\")"
   ]
  },
  {
   "cell_type": "markdown",
   "id": "foHZdTwEpSK8",
   "metadata": {
    "id": "foHZdTwEpSK8"
   },
   "source": [
    "### **Résultats avec Random Forest**"
   ]
  },
  {
   "cell_type": "code",
   "execution_count": 894,
   "id": "BvIkvtvdpJe2",
   "metadata": {
    "colab": {
     "base_uri": "https://localhost:8080/"
    },
    "executionInfo": {
     "elapsed": 78629,
     "status": "ok",
     "timestamp": 1714406412927,
     "user": {
      "displayName": "Géraud de Langlade",
      "userId": "09292225826687032589"
     },
     "user_tz": -120
    },
    "id": "BvIkvtvdpJe2",
    "outputId": "397bbb89-66e8-44c2-b8de-bc680f1dc2ae"
   },
   "outputs": [
    {
     "name": "stdout",
     "output_type": "stream",
     "text": [
      "L'accuracy pour le modèle random forest avec un pourcentage de champignons vénéneux dans le dataset original de 10.00%\n",
      "est égal à: 99.64%, intervalle de confiance: [99.09%, 100.00%]\n",
      "Le recall pour le modèle random forest avec un pourcentage de champignons vénéneux dans le dataset original de 10.00%\n",
      "est égal à: 96.80%, intervalle de confiance: [91.86%, 100.00%]\n",
      "L'accuracy pour le modèle random forest avec un pourcentage de champignons vénéneux dans le dataset original de 30.00%\n",
      "est égal à: 98.91%, intervalle de confiance: [98.12%, 99.71%]\n",
      "Le recall pour le modèle random forest avec un pourcentage de champignons vénéneux dans le dataset original de 30.00%\n",
      "est égal à: 98.15%, intervalle de confiance: [96.01%, 100.00%]\n",
      "L'accuracy pour le modèle random forest avec un pourcentage de champignons vénéneux dans le dataset original de 51.61%\n",
      "est égal à: 98.44%, intervalle de confiance: [97.71%, 99.16%]\n",
      "Le recall pour le modèle random forest avec un pourcentage de champignons vénéneux dans le dataset original de 51.61%\n",
      "est égal à: 98.29%, intervalle de confiance: [97.04%, 99.53%]\n"
     ]
    }
   ],
   "source": [
    "prop_1_unbiased_df = df_main['target'].value_counts()[0]/len(df_main)\n",
    "l_prop_to_bias = [0.1, 0.3, prop_1_unbiased_df]\n",
    "\n",
    "for prop in l_prop_to_bias:\n",
    "    accu, conf_inter_acc= cross_val(df_main, prop, model_name = 'random_forest', n_cross_val = 50, score_type = 'accuracy', in_percent = True)\n",
    "    recall, conf_inter_rec= cross_val(df_main, prop, model_name = 'random_forest', n_cross_val = 50, score_type = 'recall', in_percent = True)\n",
    "    print(f\"\"\"L'accuracy pour le modèle random forest avec un pourcentage de champignons vénéneux dans le dataset original de {100*prop:.2f}%\n",
    "est égal à: {accu}, intervalle de confiance: {conf_inter_acc}\"\"\")\n",
    "    print(f\"\"\"Le recall pour le modèle random forest avec un pourcentage de champignons vénéneux dans le dataset original de {100*prop:.2f}%\n",
    "est égal à: {recall}, intervalle de confiance: {conf_inter_rec}\"\"\")\n"
   ]
  },
  {
   "cell_type": "markdown",
   "id": "HzEmLPb3pfsm",
   "metadata": {
    "id": "HzEmLPb3pfsm"
   },
   "source": [
    "### **Evolution de la courbe ROC en fonction**"
   ]
  },
  {
   "cell_type": "code",
   "execution_count": 871,
   "id": "kGG-3G_Mok40",
   "metadata": {
    "colab": {
     "base_uri": "https://localhost:8080/",
     "height": 528
    },
    "executionInfo": {
     "elapsed": 1953,
     "status": "ok",
     "timestamp": 1714407100829,
     "user": {
      "displayName": "Géraud de Langlade",
      "userId": "09292225826687032589"
     },
     "user_tz": -120
    },
    "id": "kGG-3G_Mok40",
    "outputId": "cbb6345f-fab5-436f-97cd-4079e636d947"
   },
   "outputs": [
    {
     "name": "stderr",
     "output_type": "stream",
     "text": [
      "/var/folders/kn/pl0971pj1p358ll4phkv7xgw0000gn/T/ipykernel_27838/3525203263.py:34: MatplotlibDeprecationWarning: Unable to determine Axes to steal space for Colorbar. Using gca(), but will raise in the future. Either provide the *cax* argument to use as the Axes for the Colorbar, provide the *ax* argument to steal space from it, or add *mappable* to an Axes.\n",
      "  cbar = plt.colorbar(sm)\n"
     ]
    },
    {
     "data": {
      "image/png": "[encoded data removed]",
      "text/plain": [
       "<Figure size 640x480 with 2 Axes>"
      ]
     },
     "metadata": {},
     "output_type": "display_data"
    }
   ],
   "source": [
    "from sklearn.metrics import roc_curve, auc\n",
    "from matplotlib.colors import LinearSegmentedColormap, Normalize\n",
    "\n",
    "colors = [\"red\", \"green\"]\n",
    "cmap = LinearSegmentedColormap.from_list(\"rg\", colors, N=256)\n",
    "\n",
    "values = np.linspace(0.001, 0.999, 10)\n",
    "\n",
    "norm = Normalize(vmin=min(values), vmax=max(values))\n",
    "\n",
    "fig, ax = plt.subplots()\n",
    "\n",
    "\n",
    "\n",
    "for value in values:\n",
    "    color = cmap(norm(value))\n",
    "    df = dataset_divider(df_main, prop)\n",
    "    X = df.drop('target', axis=1)\n",
    "    y = df['target']\n",
    "    X_train, X_test, y_train, y_test  = train_test_split(X, y, test_size= 0.2, stratify=y)\n",
    "    model = LogisticRegression(max_iter=4000)\n",
    "    model.fit(X_train, y= y_train)\n",
    "    predictions = model.predict_proba(X_test)[:, 1]\n",
    "\n",
    "    fpr, tpr, thresholds = roc_curve(y_test, predictions)\n",
    "    roc_auc = auc(fpr, tpr)\n",
    "\n",
    "    ax.plot(fpr, tpr, color=color, lw=2)\n",
    "\n",
    "ax.plot([0, 1], [0, 1], color='navy', lw=2, linestyle='--')\n",
    "\n",
    "sm = plt.cm.ScalarMappable(cmap=cmap, norm=norm)\n",
    "sm.set_array([])\n",
    "cbar = plt.colorbar(sm)\n",
    "cbar.set_label('Proportion d\\'exemples positifs dans le dataset d\\'entrainement')\n",
    "plt.xlim([0.0, 1.0])\n",
    "plt.ylim([0.0, 1.05])\n",
    "plt.xlabel('Taux de Faux Positifs')\n",
    "plt.ylabel('Taux de Vrais Positifs')\n",
    "plt.title('Courbe ROC Regression Logistique')\n",
    "plt.savefig('roc_reg_log.png')\n",
    "plt.show()"
   ]
  },
  {
   "cell_type": "code",
   "execution_count": 885,
   "id": "cLzZrIufoUDm",
   "metadata": {
    "colab": {
     "base_uri": "https://localhost:8080/",
     "height": 528
    },
    "executionInfo": {
     "elapsed": 5236,
     "status": "ok",
     "timestamp": 1714407218080,
     "user": {
      "displayName": "Géraud de Langlade",
      "userId": "09292225826687032589"
     },
     "user_tz": -120
    },
    "id": "cLzZrIufoUDm",
    "outputId": "c6442ebf-dcc8-46d2-a104-736b3e3f9d7d"
   },
   "outputs": [
    {
     "name": "stderr",
     "output_type": "stream",
     "text": [
      "/var/folders/kn/pl0971pj1p358ll4phkv7xgw0000gn/T/ipykernel_27838/2379484962.py:34: MatplotlibDeprecationWarning: Unable to determine Axes to steal space for Colorbar. Using gca(), but will raise in the future. Either provide the *cax* argument to use as the Axes for the Colorbar, provide the *ax* argument to steal space from it, or add *mappable* to an Axes.\n",
      "  cbar = plt.colorbar(sm)\n"
     ]
    },
    {
     "data": {
      "image/png": "[encoded data removed]",
      "text/plain": [
       "<Figure size 640x480 with 2 Axes>"
      ]
     },
     "metadata": {},
     "output_type": "display_data"
    }
   ],
   "source": [
    "from sklearn.metrics import roc_curve, auc\n",
    "from matplotlib.colors import LinearSegmentedColormap, Normalize\n",
    "\n",
    "colors = [\"red\", \"green\"]\n",
    "cmap = LinearSegmentedColormap.from_list(\"rg\", colors, N=256)\n",
    "\n",
    "values = np.linspace(0.001, 0.999, 10)\n",
    "\n",
    "norm = Normalize(vmin=min(values), vmax=max(values))\n",
    "\n",
    "fig, ax = plt.subplots()\n",
    "\n",
    "\n",
    "\n",
    "for value in values:\n",
    "    color = cmap(norm(value))\n",
    "    df = dataset_divider(df_main, prop)\n",
    "    X = df.drop('target', axis=1)\n",
    "    y = df['target']\n",
    "    X_train, X_test, y_train, y_test  = train_test_split(X, y, test_size= 0.2, stratify=y)\n",
    "    model = RandomForestClassifier()\n",
    "    model.fit(X_train, y= y_train)\n",
    "    predictions = model.predict_proba(X_test)[:, 1]\n",
    "\n",
    "    fpr, tpr, thresholds = roc_curve(y_test, predictions)\n",
    "    roc_auc = auc(fpr, tpr)\n",
    "\n",
    "    ax.plot(fpr, tpr, color=color, lw=2)\n",
    "\n",
    "ax.plot([0, 1], [0, 1], color='navy', lw=2, linestyle='--')\n",
    "\n",
    "sm = plt.cm.ScalarMappable(cmap=cmap, norm=norm)\n",
    "sm.set_array([])\n",
    "cbar = plt.colorbar(sm)\n",
    "cbar.set_label('Proportion d\\'exemples positifs dans le dataset d\\'entrainement')\n",
    "plt.xlim([0.0, 1.0])\n",
    "plt.ylim([0.0, 1.05])\n",
    "plt.xlabel('Taux de Faux Positif')\n",
    "plt.ylabel('Taux de Vrais Positif')\n",
    "plt.title('Courbe ROC Random Forest')\n",
    "plt.savefig('roc_r_f.png')\n",
    "plt.show()"
   ]
  },
  {
   "cell_type": "markdown",
   "id": "6d284e03-1c5b-4701-bad5-8cb1c1196a22",
   "metadata": {
    "id": "6d284e03-1c5b-4701-bad5-8cb1c1196a22"
   },
   "source": [
    " ### **Graphique comparant l'accuracy et le recall en fonction du pourcentage de 1 dans l'échantillon original**"
   ]
  },
  {
   "cell_type": "code",
   "execution_count": 904,
   "id": "5ebc5501-c1b3-4619-b503-dba5d4448e32",
   "metadata": {
    "id": "5ebc5501-c1b3-4619-b503-dba5d4448e32"
   },
   "outputs": [
    {
     "name": "stderr",
     "output_type": "stream",
     "text": [
      "Progression: 100%|██████████████████████████████████████████████████| 99/99 [06:03<00:00,  3.67s/it]"
     ]
    },
    {
     "name": "stdout",
     "output_type": "stream",
     "text": [
      "Done!\n"
     ]
    },
    {
     "name": "stderr",
     "output_type": "stream",
     "text": [
      "\n"
     ]
    }
   ],
   "source": [
    "from tqdm import tqdm\n",
    "\n",
    "x_axis = np.linspace(1, 99, 99)\n",
    "\n",
    "y_acc_l_r = []\n",
    "y_rec_l_r = []\n",
    "l_conf_inter_acc = []\n",
    "l_conf_inter_rec = []\n",
    "for thresh in tqdm(x_axis, total=len(x_axis), desc='Progression', ncols=100):\n",
    "    acc_reg_log, conf_inter_acc = cross_val(df_main, class_1_percent = thresh/100, model_name = 'log_reg', n_cross_val = 50, score_type = 'accuracy', in_percent = False)\n",
    "    rec_reg_log, conf_inter_rec = cross_val(df_main, class_1_percent = thresh/100, model_name = 'log_reg', n_cross_val = 50, score_type = 'recall', in_percent = False)\n",
    "    y_acc_l_r.append(acc_reg_log)\n",
    "    y_rec_l_r.append(rec_reg_log)\n",
    "    l_conf_inter_acc.append(conf_inter_acc)\n",
    "    l_conf_inter_rec.append(conf_inter_rec)\n",
    "print(\"Done!\")\n"
   ]
  },
  {
   "cell_type": "code",
   "execution_count": 905,
   "id": "dedefe6e-614d-44e4-9ef3-4c9931adf416",
   "metadata": {
    "id": "dedefe6e-614d-44e4-9ef3-4c9931adf416"
   },
   "outputs": [
    {
     "data": {
      "image/png": "[encoded data removed]",
      "text/plain": [
       "<Figure size 1200x700 with 1 Axes>"
      ]
     },
     "metadata": {},
     "output_type": "display_data"
    }
   ],
   "source": [
    "lows_acc_l_r, highs_acc_l_r = zip(*l_conf_inter_acc)\n",
    "lows_rec_l_r, highs_rec_l_r = zip(*l_conf_inter_rec)\n",
    "\n",
    "plt.figure(figsize=(12, 7))\n",
    "\n",
    "plt.plot(x_axis, y_acc_l_r, label='Accuracy', color='blue')\n",
    "plt.fill_between(x_axis, lows_acc_l_r, highs_acc_l_r, color='blue', alpha=0.2)\n",
    "\n",
    "plt.plot(x_axis, y_rec_l_r, label='Recall', color='orange')\n",
    "plt.fill_between(x_axis, lows_rec_l_r, highs_rec_l_r, color='orange', alpha=0.2)\n",
    "\n",
    "plt.xlabel('Valeur')\n",
    "plt.ylabel('Part de champignon vénéneux dans l\\'échantillon d\\'entrainement')\n",
    "plt.title('Accuracy et Recall en fonction de la part de champignon vénéneux dans l\\'échantillon d\\'entrainement')\n",
    "plt.legend(loc='lower right')\n",
    "plt.savefig('Accuracy_Recall_log_reg.png')\n",
    "plt.show()"
   ]
  },
  {
   "cell_type": "markdown",
   "id": "3eb9b807-1908-47bb-b6bb-2f86fb38efd5",
   "metadata": {
    "id": "3eb9b807-1908-47bb-b6bb-2f86fb38efd5"
   },
   "source": [
    "Pour la régression logistique :\n",
    "\n",
    "- **accuracy** : L'accuracy est meilleure lorsque la répartition des classes est plus biaisée. Cela s'explique par le fait qu'il s'agit du nombre de prédictions correctes sur les deux classes du modèle. Ainsi, si une classe contient un nombre disproportionnellement plus grand d'individus qu'une autre, il suffit que le modèle classe tous les individus dans cette classe dominante pour que l'accuracy soit tout de même proche de 1.\n",
    "\n",
    "- **recall** : Le recall est influencé par le pourcentage d'exemples positifs dans l'échantillon d'entraînement et tend à se rapprocher de 1 lorsque la classe positive est plus présente dans le dataset. Plus le nombre d'individus de la classe positive est petit comparativement au nombre d'individus de la classe nulle, plus le modèle sera entraîné à classer la plupart des individus dans la classe nulle. En effet, avec très peu d'exemples d'individus appartenant à la classe positive présents dans le dataset, le modèle aura tendance à générer des faux négatifs. En conséquence, le recall va baisser.\n",
    "\n",
    "\n"
   ]
  },
  {
   "cell_type": "code",
   "execution_count": 906,
   "id": "4ecc529e-eda3-4e45-87af-913fa9cf4c4f",
   "metadata": {
    "id": "4ecc529e-eda3-4e45-87af-913fa9cf4c4f"
   },
   "outputs": [
    {
     "name": "stderr",
     "output_type": "stream",
     "text": [
      "Progression: 100%|██████████████████████████████████████████████████| 99/99 [11:34<00:00,  7.01s/it]\n"
     ]
    }
   ],
   "source": [
    "x_axis = np.linspace(1, 99, 99)\n",
    "\n",
    "y_acc_r_f = []\n",
    "y_rec_r_f = []\n",
    "l_conf_inter_acc_r_f = []\n",
    "l_conf_inter_rec_r_f = []\n",
    "for thresh in tqdm(x_axis, total=len(x_axis), desc='Progression', ncols=100):\n",
    "    acc_r_f, conf_inter_acc = cross_val(df_main, class_1_percent = thresh/100, model_name = 'random_forest', n_cross_val = 50, score_type = 'accuracy', in_percent = False)\n",
    "    rec_r_f, conf_inter_rec = cross_val(df_main, class_1_percent = thresh/100, model_name = 'random_forest', n_cross_val = 50, score_type = 'recall', in_percent = False)\n",
    "    l_conf_inter_acc_r_f.append(conf_inter_acc)\n",
    "    l_conf_inter_rec_r_f.append(conf_inter_rec)\n",
    "    y_acc_r_f.append(acc_r_f)\n",
    "    y_rec_r_f.append(rec_r_f)"
   ]
  },
  {
   "cell_type": "code",
   "execution_count": 803,
   "id": "1deba391-4125-4132-9f63-93895e0ab0eb",
   "metadata": {},
   "outputs": [
    {
     "data": {
      "text/plain": [
       "0.9975"
      ]
     },
     "execution_count": 803,
     "metadata": {},
     "output_type": "execute_result"
    }
   ],
   "source": [
    "rec_reg_log"
   ]
  },
  {
   "cell_type": "code",
   "execution_count": 907,
   "id": "2e3fcc99-fc48-46ee-ae5b-c92dc4659594",
   "metadata": {
    "id": "2e3fcc99-fc48-46ee-ae5b-c92dc4659594"
   },
   "outputs": [
    {
     "data": {
      "image/png": "[encoded data removed]",
      "text/plain": [
       "<Figure size 1200x700 with 1 Axes>"
      ]
     },
     "metadata": {},
     "output_type": "display_data"
    }
   ],
   "source": [
    "lows_acc, highs_acc = zip(*l_conf_inter_acc_r_f)\n",
    "lows_rec, highs_rec = zip(*l_conf_inter_rec_r_f)\n",
    "\n",
    "plt.figure(figsize=(12, 7))\n",
    "\n",
    "plt.plot(x_axis, y_acc_r_f, label='Accuracy', color='blue')\n",
    "plt.fill_between(x_axis, lows_acc, highs_acc, color='blue', alpha=0.2)\n",
    "\n",
    "plt.plot(x_axis, y_rec_r_f, label='Recall', color='orange')\n",
    "plt.fill_between(x_axis, lows_rec, highs_rec, color='orange', alpha=0.2)\n",
    "\n",
    "plt.xlabel('Valeur')\n",
    "plt.ylabel('Part de champignon vénéneux dans l\\'échantillon d\\'entrainement')\n",
    "plt.title('Accuracy et Recall en fonction de la part de champignon vénéneux dans l\\'échantillon d\\'entrainement')\n",
    "plt.legend(loc='lower right')\n",
    "plt.savefig('Accuracy_Recall_r_f.png')\n",
    "plt.show()"
   ]
  },
  {
   "cell_type": "markdown",
   "id": "e3773a87-a578-4356-a983-0d6fa3f75bdb",
   "metadata": {},
   "source": [
    "Pour le modèle **Random Forest** :\n",
    "\n",
    "- **accuracy** : L'accuracy est au plus bas lorsque la part d'exemples positifs dans le dataset d'entraînement est proche de 80%. Cela peut suggérer que le modèle a des difficultés à bien classifier les exemples négatifs lorsque la majorité des données sont positives, entraînant une baisse globale de la précision.\n",
    "\n",
    "- **recall** : Comme pour la régression logistique, le recall augmente beaucoup plus rapidement, atteignant 97% alors que la part d'exemples positifs n'est que d'environ 5%. Cela indique une forte capacité du modèle à identifier correctement les exemples positifs, même quand ils sont en minorité dans le dataset.\n"
   ]
  },
  {
   "cell_type": "code",
   "execution_count": 908,
   "id": "8bacfb0e-5133-4124-a5fd-d5f4f93044d7",
   "metadata": {},
   "outputs": [
    {
     "data": {
      "image/png": "[encoded data removed]",
      "text/plain": [
       "<Figure size 1200x700 with 1 Axes>"
      ]
     },
     "metadata": {},
     "output_type": "display_data"
    }
   ],
   "source": [
    "plt.figure(figsize=(12, 7))\n",
    "\n",
    "plt.plot(x_axis, y_acc_l_r, label='Accuracy Modèle de Régression Logistique', color='black')\n",
    "plt.fill_between(x_axis, lows_acc_l_r, highs_acc_l_r, color='black', alpha=0.2)\n",
    "\n",
    "plt.plot(x_axis, y_acc_r_f, label= 'Accuracy Modèle Random Forest', color='blue')\n",
    "plt.fill_between(x_axis, lows_acc, highs_acc, color='blue', alpha=0.2)\n",
    "\n",
    "plt.xlim([0.0, 100.0])\n",
    "plt.ylim([0.8, 1.0])\n",
    "plt.xlabel('Valeur')\n",
    "plt.ylabel('Part de champignon vénéneux dans l\\'échantillon d\\'entrainement')\n",
    "plt.title('Accuracy en fonction de la part de champignon vénéneux dans l\\'échantillon d\\'entrainement: Comparaison')\n",
    "plt.legend(loc='lower right')\n",
    "plt.savefig('comp_acc.png')\n",
    "plt.show()"
   ]
  },
  {
   "cell_type": "code",
   "execution_count": 909,
   "id": "c7ed582b-f086-460b-a5a3-50fedc0ff328",
   "metadata": {},
   "outputs": [
    {
     "data": {
      "image/png": "[encoded data removed]",
      "text/plain": [
       "<Figure size 1200x700 with 1 Axes>"
      ]
     },
     "metadata": {},
     "output_type": "display_data"
    }
   ],
   "source": [
    "plt.figure(figsize=(12, 7))\n",
    "\n",
    "plt.plot(x_axis, y_rec_l_r, label= 'Recall Modèle de Régression Logistique', color='red')\n",
    "plt.fill_between(x_axis, lows_rec_l_r, highs_rec_l_r, color='red', alpha=0.2)\n",
    "\n",
    "plt.plot(x_axis, y_rec_r_f, label= 'Recall Modèle Random Forest', color='orange')\n",
    "plt.fill_between(x_axis, lows_rec, highs_rec, color='orange', alpha=0.2)\n",
    "\n",
    "plt.xlabel('Valeur')\n",
    "plt.ylabel('Part de champignon vénéneux dans l\\'échantillon d\\'entrainement')\n",
    "plt.title('Recall en fonction de la part de champignon vénéneux dans l\\'échantillon d\\'entrainement: Comparaison')\n",
    "plt.legend(loc='lower right')\n",
    "plt.savefig('Recall_comp.png')\n",
    "plt.show()"
   ]
  }
 ],
 "metadata": {
  "colab": {
   "provenance": [
    {
     "file_id": "1P0VozUP07wfYFIyr9mm3H-Go4Cv-mxGc",
     "timestamp": 1714244814498
    }
   ]
  },
  "kernelspec": {
   "display_name": "Python 3 (ipykernel)",
   "language": "python",
   "name": "python3"
  },
  "language_info": {
   "codemirror_mode": {
    "name": "ipython",
    "version": 3
   },
   "file_extension": ".py",
   "mimetype": "text/x-python",
   "name": "python",
   "nbconvert_exporter": "python",
   "pygments_lexer": "ipython3",
   "version": "3.11.4"
  }
 },
 "nbformat": 4,
 "nbformat_minor": 5
}
